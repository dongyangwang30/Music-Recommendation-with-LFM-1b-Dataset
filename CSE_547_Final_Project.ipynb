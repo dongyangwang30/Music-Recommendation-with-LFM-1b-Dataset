{
  "cells": [
    {
      "cell_type": "markdown",
      "metadata": {
        "id": "kPt5q27L5557"
      },
      "source": [
        "# CSE 547 Final Project\n",
        "\n",
        "Emily Yan, Gasper Qian, Dongyang Wang"
      ]
    },
    {
      "cell_type": "markdown",
      "metadata": {
        "id": "p0-YhEpP_Ds-"
      },
      "source": [
        "### Setup"
      ]
    },
    {
      "cell_type": "markdown",
      "metadata": {
        "id": "Zsj5WYpR9QId"
      },
      "source": [
        "Let's setup Spark on your Colab environment."
      ]
    },
    {
      "cell_type": "code",
      "execution_count": null,
      "metadata": {
        "colab": {
          "base_uri": "https://localhost:8080/"
        },
        "id": "k-qHai2252mI",
        "outputId": "90403d7c-44d0-4646-bff6-06c41f03c5fd"
      },
      "outputs": [
        {
          "output_type": "stream",
          "name": "stdout",
          "text": [
            "Looking in indexes: https://pypi.org/simple, https://us-python.pkg.dev/colab-wheels/public/simple/\n",
            "Collecting pyspark\n",
            "  Downloading pyspark-3.3.2.tar.gz (281.4 MB)\n",
            "\u001b[2K     \u001b[90m━━━━━━━━━━━━━━━━━━━━━━━━━━━━━━━━━━━━━━━\u001b[0m \u001b[32m281.4/281.4 MB\u001b[0m \u001b[31m4.0 MB/s\u001b[0m eta \u001b[36m0:00:00\u001b[0m\n",
            "\u001b[?25h  Preparing metadata (setup.py) ... \u001b[?25l\u001b[?25hdone\n",
            "Collecting py4j==0.10.9.5\n",
            "  Downloading py4j-0.10.9.5-py2.py3-none-any.whl (199 kB)\n",
            "\u001b[2K     \u001b[90m━━━━━━━━━━━━━━━━━━━━━━━━━━━━━━━━━━━━━━\u001b[0m \u001b[32m199.7/199.7 KB\u001b[0m \u001b[31m23.8 MB/s\u001b[0m eta \u001b[36m0:00:00\u001b[0m\n",
            "\u001b[?25hBuilding wheels for collected packages: pyspark\n",
            "  Building wheel for pyspark (setup.py) ... \u001b[?25l\u001b[?25hdone\n",
            "  Created wheel for pyspark: filename=pyspark-3.3.2-py2.py3-none-any.whl size=281824025 sha256=859a409bf07de363c6aedceac905474b4448af5d4720183ca82ddeb3b4a8ccd6\n",
            "  Stored in directory: /root/.cache/pip/wheels/6c/e3/9b/0525ce8a69478916513509d43693511463c6468db0de237c86\n",
            "Successfully built pyspark\n",
            "Installing collected packages: py4j, pyspark\n",
            "Successfully installed py4j-0.10.9.5 pyspark-3.3.2\n",
            "The following additional packages will be installed:\n",
            "  openjdk-8-jre-headless\n",
            "Suggested packages:\n",
            "  openjdk-8-demo openjdk-8-source libnss-mdns fonts-dejavu-extra\n",
            "  fonts-ipafont-gothic fonts-ipafont-mincho fonts-wqy-microhei\n",
            "  fonts-wqy-zenhei fonts-indic\n",
            "The following NEW packages will be installed:\n",
            "  openjdk-8-jdk-headless openjdk-8-jre-headless\n",
            "0 upgraded, 2 newly installed, 0 to remove and 22 not upgraded.\n",
            "Need to get 36.5 MB of archives.\n",
            "After this operation, 144 MB of additional disk space will be used.\n",
            "Selecting previously unselected package openjdk-8-jre-headless:amd64.\n",
            "(Reading database ... 128275 files and directories currently installed.)\n",
            "Preparing to unpack .../openjdk-8-jre-headless_8u362-ga-0ubuntu1~20.04.1_amd64.deb ...\n",
            "Unpacking openjdk-8-jre-headless:amd64 (8u362-ga-0ubuntu1~20.04.1) ...\n",
            "Selecting previously unselected package openjdk-8-jdk-headless:amd64.\n",
            "Preparing to unpack .../openjdk-8-jdk-headless_8u362-ga-0ubuntu1~20.04.1_amd64.deb ...\n",
            "Unpacking openjdk-8-jdk-headless:amd64 (8u362-ga-0ubuntu1~20.04.1) ...\n",
            "Setting up openjdk-8-jre-headless:amd64 (8u362-ga-0ubuntu1~20.04.1) ...\n",
            "update-alternatives: using /usr/lib/jvm/java-8-openjdk-amd64/jre/bin/orbd to provide /usr/bin/orbd (orbd) in auto mode\n",
            "update-alternatives: using /usr/lib/jvm/java-8-openjdk-amd64/jre/bin/servertool to provide /usr/bin/servertool (servertool) in auto mode\n",
            "update-alternatives: using /usr/lib/jvm/java-8-openjdk-amd64/jre/bin/tnameserv to provide /usr/bin/tnameserv (tnameserv) in auto mode\n",
            "Setting up openjdk-8-jdk-headless:amd64 (8u362-ga-0ubuntu1~20.04.1) ...\n",
            "update-alternatives: using /usr/lib/jvm/java-8-openjdk-amd64/bin/idlj to provide /usr/bin/idlj (idlj) in auto mode\n",
            "update-alternatives: using /usr/lib/jvm/java-8-openjdk-amd64/bin/wsimport to provide /usr/bin/wsimport (wsimport) in auto mode\n",
            "update-alternatives: using /usr/lib/jvm/java-8-openjdk-amd64/bin/jsadebugd to provide /usr/bin/jsadebugd (jsadebugd) in auto mode\n",
            "update-alternatives: using /usr/lib/jvm/java-8-openjdk-amd64/bin/native2ascii to provide /usr/bin/native2ascii (native2ascii) in auto mode\n",
            "update-alternatives: using /usr/lib/jvm/java-8-openjdk-amd64/bin/javah to provide /usr/bin/javah (javah) in auto mode\n",
            "update-alternatives: using /usr/lib/jvm/java-8-openjdk-amd64/bin/hsdb to provide /usr/bin/hsdb (hsdb) in auto mode\n",
            "update-alternatives: using /usr/lib/jvm/java-8-openjdk-amd64/bin/clhsdb to provide /usr/bin/clhsdb (clhsdb) in auto mode\n",
            "update-alternatives: using /usr/lib/jvm/java-8-openjdk-amd64/bin/xjc to provide /usr/bin/xjc (xjc) in auto mode\n",
            "update-alternatives: using /usr/lib/jvm/java-8-openjdk-amd64/bin/schemagen to provide /usr/bin/schemagen (schemagen) in auto mode\n",
            "update-alternatives: using /usr/lib/jvm/java-8-openjdk-amd64/bin/extcheck to provide /usr/bin/extcheck (extcheck) in auto mode\n",
            "update-alternatives: using /usr/lib/jvm/java-8-openjdk-amd64/bin/jhat to provide /usr/bin/jhat (jhat) in auto mode\n",
            "update-alternatives: using /usr/lib/jvm/java-8-openjdk-amd64/bin/wsgen to provide /usr/bin/wsgen (wsgen) in auto mode\n"
          ]
        }
      ],
      "source": [
        "!pip install pyspark\n",
        "!pip install -U -q PyDrive\n",
        "!apt install openjdk-8-jdk-headless -qq\n",
        "import os\n",
        "os.environ[\"JAVA_HOME\"] = \"/usr/lib/jvm/java-8-openjdk-amd64\""
      ]
    },
    {
      "cell_type": "code",
      "execution_count": null,
      "metadata": {
        "id": "yytUWjPjSJj4"
      },
      "outputs": [],
      "source": [
        "import pyspark\n",
        "from pyspark.sql import *\n",
        "from pyspark.sql.functions import *\n",
        "from pyspark import SparkContext, SparkConf\n",
        "from pyspark.sql import functions as F\n",
        "from pyspark.rdd import RDD\n",
        "import numpy as np\n",
        "import pandas as pd"
      ]
    },
    {
      "cell_type": "code",
      "execution_count": null,
      "metadata": {
        "id": "wmqFVvxeSTJ-"
      },
      "outputs": [],
      "source": [
        "conf = SparkConf().set(\"spark.ui.port\", \"4050\")\n",
        "sc = SparkContext(conf=conf)\n",
        "spark = SparkSession.builder \\\n",
        ".appName('app_name') \\\n",
        ".master('local[*]') \\\n",
        ".config('spark.sql.execution.arrow.pyspark.enabled', True) \\\n",
        ".config(\"spark.executor.memory\", \"70g\")\\\n",
        ".config('spark.sql.session.timeZone', 'UTC') \\\n",
        ".config('spark.driver.memory','50g') \\\n",
        ".config(\"spark.memory.offHeap.size\",\"16g\")   \\\n",
        ".config('spark.ui.showConsoleProgress', True) \\\n",
        ".config('spark.sql.repl.eagerEval.enabled', True) \\\n",
        ".getOrCreate()\n",
        "\n",
        "#sc.stop()"
      ]
    },
    {
      "cell_type": "markdown",
      "metadata": {
        "id": "-CJ71AKe91eh"
      },
      "source": [
        "The following code will be used for using and mounting Google drive."
      ]
    },
    {
      "cell_type": "code",
      "execution_count": null,
      "metadata": {
        "id": "5K93ABEy9Zlo"
      },
      "outputs": [],
      "source": [
        "from pydrive.auth import GoogleAuth\n",
        "from pydrive.drive import GoogleDrive\n",
        "from google.colab import auth\n",
        "from oauth2client.client import GoogleCredentials\n",
        "\n",
        "# Authenticate and create the PyDrive client\n",
        "#auth.authenticate_user()\n",
        "#gauth = GoogleAuth()\n",
        "#gauth.credentials = GoogleCredentials.get_application_default()\n",
        "#drive = GoogleDrive(gauth)"
      ]
    },
    {
      "cell_type": "code",
      "execution_count": null,
      "metadata": {
        "id": "YsMwd1WsbpBP"
      },
      "outputs": [],
      "source": [
        "#from google.colab import drive\n",
        "#drive.mount('/content/drive')"
      ]
    },
    {
      "cell_type": "markdown",
      "metadata": {
        "id": "CRaF2A_j_nC7"
      },
      "source": [
        "### Unzipping and Loading the Data"
      ]
    },
    {
      "cell_type": "markdown",
      "metadata": {
        "id": "kUnW1_1rSm3N"
      },
      "source": [
        "Obtaining the dataset from the web."
      ]
    },
    {
      "cell_type": "code",
      "execution_count": null,
      "metadata": {
        "id": "FJg3f5djLCrn",
        "colab": {
          "base_uri": "https://localhost:8080/"
        },
        "outputId": "f8ae11db-2b16-4844-f565-5d9e670613f3"
      },
      "outputs": [
        {
          "output_type": "stream",
          "name": "stdout",
          "text": [
            "URL transformed to HTTPS due to an HSTS policy\n",
            "--2023-03-06 00:54:39--  https://drive.jku.at/ssf/s/readFile/share/1056/266403063659030189/publicLink/LFM-1b.zip\n",
            "Resolving drive.jku.at (drive.jku.at)... 140.78.3.239\n",
            "Connecting to drive.jku.at (drive.jku.at)|140.78.3.239|:443... connected.\n",
            "HTTP request sent, awaiting response... 200 \n",
            "Length: 8672428478 (8.1G) [application/zip]\n",
            "Saving to: ‘LFM-1b.zip.4’\n",
            "\n",
            "LFM-1b.zip.4          0%[                    ]  55.26K   167KB/s               ^C\n",
            "Archive:  LFM-1b.zip\n",
            "  End-of-central-directory signature not found.  Either this file is not\n",
            "  a zipfile, or it constitutes one disk of a multi-part archive.  In the\n",
            "  latter case the central directory and zipfile comment will be found on\n",
            "  the last disk(s) of this archive.\n",
            "unzip:  cannot find zipfile directory in one of LFM-1b.zip or\n",
            "        LFM-1b.zip.zip, and cannot find LFM-1b.zip.ZIP, period.\n"
          ]
        }
      ],
      "source": [
        "!wget --no-check-certificate http://drive.jku.at/ssf/s/readFile/share/1056/266403063659030189/publicLink/LFM-1b.zip\n",
        "!unzip LFM-1b.zip"
      ]
    },
    {
      "cell_type": "markdown",
      "metadata": {
        "id": "H2KEyAuPSiXg"
      },
      "source": [
        "The following code will be used for reading the dataset from Google drive."
      ]
    },
    {
      "cell_type": "code",
      "execution_count": null,
      "metadata": {
        "id": "8YytUdXia_cF",
        "colab": {
          "base_uri": "https://localhost:8080/",
          "height": 130
        },
        "outputId": "0d373754-9450-4929-f06d-84abc1360d9b"
      },
      "outputs": [
        {
          "output_type": "error",
          "ename": "IndentationError",
          "evalue": "ignored",
          "traceback": [
            "\u001b[0;36m  File \u001b[0;32m\"<ipython-input-6-a09a463f4dea>\"\u001b[0;36m, line \u001b[0;32m11\u001b[0m\n\u001b[0;31m    print('Extracting all the files now...')\u001b[0m\n\u001b[0m    ^\u001b[0m\n\u001b[0;31mIndentationError\u001b[0m\u001b[0;31m:\u001b[0m unexpected indent\n"
          ]
        }
      ],
      "source": [
        "#from zipfile import ZipFile\n",
        "\n",
        "# specifying the zip file name\n",
        "#file_name = \"/content/drive/MyDrive/CSE 547/LFM-1b.zip\"\n",
        "\n",
        "#with ZipFile(file_name, 'r') as zip:\n",
        "    # printing all the contents of the zip file\n",
        "    #zip.printdir()\n",
        "  \n",
        "    # extracting all the files\n",
        "    print('Extracting all the files now...')\n",
        "    #zip.extractall()\n",
        "    print('Done!')"
      ]
    },
    {
      "cell_type": "code",
      "execution_count": null,
      "metadata": {
        "id": "ZPMZ0HxlqW0g"
      },
      "outputs": [],
      "source": [
        "#import zipfile\n",
        "#archive = zipfile.ZipFile('/content/drive/MyDrive/CSE 547/LFM-1b.zip', 'r')\n",
        "\n",
        "#albums = archive.read(\"LFM-1b_albums.txt\")\n",
        "#artists = archive.read(\"LFM-1b_artists.txt\")\n",
        "#LEs = archive.read(\"LFM-1b_LEs.txt\")\n",
        "#tracks = archive.read(\"LFM-1b_tracks.txt\")\n",
        "#users = archive.read(\"LFM-1b_users.txt\")\n",
        "#users_additional = archive.read(\"LFM-1b_users_additional.txt\")"
      ]
    },
    {
      "cell_type": "code",
      "execution_count": null,
      "metadata": {
        "id": "XnqqWdjAqgWR"
      },
      "outputs": [],
      "source": [
        "albums = \"LFM-1b_albums.txt\"\n",
        "artists = \"LFM-1b_artists.txt\"\n",
        "LEs = \"LFM-1b_LEs.txt\"\n",
        "tracks = \"LFM-1b_tracks.txt\"\n",
        "users = \"LFM-1b_users.txt\"\n",
        "users_additional = \"LFM-1b_users_additional.txt\""
      ]
    },
    {
      "cell_type": "code",
      "execution_count": null,
      "metadata": {
        "id": "IkMZCPl1On13"
      },
      "outputs": [],
      "source": [
        "UAM_MATLAB_FILE = 'LFM-1b_LEs.mat' "
      ]
    },
    {
      "cell_type": "markdown",
      "metadata": {
        "id": "ncKvCWDAUHnk"
      },
      "source": [
        "### EDA"
      ]
    },
    {
      "cell_type": "markdown",
      "metadata": {
        "id": "Z-FfouujXhZo"
      },
      "source": [
        "Initializing"
      ]
    },
    {
      "cell_type": "code",
      "execution_count": null,
      "metadata": {
        "id": "ZcAXs9nTXgex"
      },
      "outputs": [],
      "source": [
        "UAM_MATLAB_FILE = 'LFM-1b_LEs.mat'         # Matlab .mat file where the listening events are stored\n",
        "ARTISTS_FILE = \"LFM-1b_artists.txt\"        # artist names for UAM\n",
        "USERS_FILE = \"LFM-1b_users.txt\"            # user names for UAM\n",
        "K = 3                                      # maximum number of seed's neighbors to select"
      ]
    },
    {
      "cell_type": "code",
      "execution_count": null,
      "metadata": {
        "id": "Zjo7BaS3aY-a"
      },
      "outputs": [],
      "source": [
        "# Load required modules\n",
        "import csv\n",
        "import numpy as np\n",
        "import h5py\n",
        "from scipy import sparse\n",
        "\n",
        "# Read the user-artist-matrix and corresponding artist and user indices from Matlab file\n",
        "def read_UAM(m_file):\n",
        "    mf = h5py.File(m_file, 'r')\n",
        "    user_ids = np.array(mf.get('idx_users')).astype(np.int64)\n",
        "    artist_ids = np.array(mf.get('idx_artists')).astype(np.int64)\n",
        "    # Load UAM\n",
        "    UAM = sparse.csr_matrix((mf['/LEs/'][\"data\"],\n",
        "                             mf['/LEs/'][\"ir\"],\n",
        "                             mf['/LEs/'][\"jc\"])).transpose()    #.tocoo().transpose()\n",
        "    # user and artist indices to access UAM\n",
        "    UAM_user_idx = UAM.indices #UAM.row -> for COO matrix\n",
        "    UAM_artist_idx = UAM.indptr #UAM.col -> for COO matrix\n",
        "    return UAM, UAM_user_idx, UAM_artist_idx, user_ids, artist_ids\n",
        "\n",
        "# Function to read metadata (users or artists)\n",
        "def read_from_file(filename, col):                  # col = column to read from file\n",
        "    data = []\n",
        "    with open(filename, 'r') as f:                  # open file for reading\n",
        "        reader = csv.reader(f, delimiter='\\t')      # create reader\n",
        "        headers = next(reader)                     # skip header\n",
        "        for row in reader:\n",
        "            item = row[col]\n",
        "            data.append(item)\n",
        "    f.close()\n",
        "    return data\n"
      ]
    },
    {
      "cell_type": "code",
      "source": [
        "UAM, UAM_user_idx, UAM_artist_idx, user_ids, artist_ids = read_UAM(UAM_MATLAB_FILE)"
      ],
      "metadata": {
        "id": "cyzorUtxALYP"
      },
      "execution_count": null,
      "outputs": []
    },
    {
      "cell_type": "code",
      "execution_count": null,
      "metadata": {
        "id": "b5hZacziwL9U"
      },
      "outputs": [],
      "source": [
        "# Initialize variables\n",
        "artists = []            # artists\n",
        "users = []              # users\n",
        "users_initial = []\n",
        "\n",
        "# Load metadata from provided files into lists\n",
        "artists = read_from_file(ARTISTS_FILE, 1)\n",
        "users_initial = read_from_file(USERS_FILE, 0)"
      ]
    },
    {
      "cell_type": "code",
      "source": [
        "from collections import Counter\n",
        "import matplotlib.pyplot as plt"
      ],
      "metadata": {
        "id": "5vC05lpbMmP0"
      },
      "execution_count": null,
      "outputs": []
    },
    {
      "cell_type": "code",
      "source": [
        "USER_FILE = 'LFM-1b_users.txt'\n",
        "countries=  read_from_file(USER_FILE, 1)"
      ],
      "metadata": {
        "id": "-Vqt9yDCPcaM"
      },
      "execution_count": null,
      "outputs": []
    },
    {
      "cell_type": "code",
      "source": [
        "countrycount = Counter(countries)\n",
        "countrycount = sorted(countrycount .items(), key=lambda kv:\n",
        "                 (kv[1], kv[0]))"
      ],
      "metadata": {
        "id": "XdF_ZctpPbr1"
      },
      "execution_count": null,
      "outputs": []
    },
    {
      "cell_type": "code",
      "source": [
        "import matplotlib.pyplot as plt\n",
        " \n",
        "# creating the dataset\n",
        "courses = list(dict(countrycount[-20:-1]).keys())\n",
        "values = list(dict(countrycount[-20:-1]).values())\n",
        "  \n",
        "fig = plt.figure(figsize = (10, 5))\n",
        " \n",
        "# creating the bar plot\n",
        "plt.bar(courses, values, color ='maroon',\n",
        "        width = 0.4)\n",
        "plt.xticks(size = 15, rotation = 20)\n",
        "plt.title('Count of Users from Top20 Countries',\n",
        "          size = 20)"
      ],
      "metadata": {
        "id": "6oR5NYfjPXui",
        "colab": {
          "base_uri": "https://localhost:8080/"
        },
        "outputId": "2fe2014e-9007-461c-a60c-484ab3d6044f"
      },
      "execution_count": null,
      "outputs": [
        {
          "output_type": "execute_result",
          "data": {
            "text/plain": [
              "Text(0.5, 1.0, 'Count of Users from Top20 Countries')"
            ]
          },
          "metadata": {},
          "execution_count": 105
        },
        {
          "output_type": "display_data",
          "data": {
            "text/plain": [
              "<Figure size 720x360 with 1 Axes>"
            ],
            "image/png": "[encoded data removed]"
          },
          "metadata": {
            "needs_background": "light"
          }
        }
      ]
    },
    {
      "cell_type": "code",
      "source": [
        "fig = plt.figure(figsize = (10, 5))\n",
        " \n",
        "# creating the bar plot\n",
        "#plt.bar(courses, values, color ='maroon',\n",
        " #       width = 0.4)\n",
        "plt.title('Distribution of Users from Each Country',\n",
        "          size = 20)\n",
        "\n",
        "_= plt.hist(dict(countrycount[:-1]).values(), bins = 100, color ='maroon')\n",
        "plt.xticks(size = 15, rotation = 20)"
      ],
      "metadata": {
        "id": "WgfBU68kPW-U",
        "colab": {
          "base_uri": "https://localhost:8080/"
        },
        "outputId": "0192c844-4c26-44e4-c90b-2e0db292037c"
      },
      "execution_count": null,
      "outputs": [
        {
          "output_type": "execute_result",
          "data": {
            "text/plain": [
              "(array([-2000.,     0.,  2000.,  4000.,  6000.,  8000., 10000., 12000.]),\n",
              " <a list of 8 Text major ticklabel objects>)"
            ]
          },
          "metadata": {},
          "execution_count": 106
        },
        {
          "output_type": "display_data",
          "data": {
            "text/plain": [
              "<Figure size 720x360 with 1 Axes>"
            ],
            "image/png": "[encoded data removed]"
          },
          "metadata": {
            "needs_background": "light"
          }
        }
      ]
    },
    {
      "cell_type": "code",
      "execution_count": null,
      "metadata": {
        "id": "mykrvMSzR_sX",
        "colab": {
          "base_uri": "https://localhost:8080/"
        },
        "outputId": "1fa9057e-3176-443b-e26b-872d01c4de70"
      },
      "outputs": [
        {
          "output_type": "stream",
          "name": "stdout",
          "text": [
            "Counts of each unique value in the list: {'m': 39969, 'n': 64339, '': 212, 'f': 15802}\n"
          ]
        },
        {
          "output_type": "display_data",
          "data": {
            "text/plain": [
              "<Figure size 720x360 with 1 Axes>"
            ],
            "image/png": "[encoded data removed]"
          },
          "metadata": {
            "needs_background": "light"
          }
        }
      ],
      "source": [
        "# User gender distributions\n",
        "USERS_FILE = 'LFM-1b_users.txt'\n",
        "users_gender = read_from_file(USERS_FILE, 3)\n",
        "def count_occurrences(lst):\n",
        "    return dict(Counter(lst))\n",
        "\n",
        "gender_counts = count_occurrences(users_gender)\n",
        "print(\"Counts of each unique value in the list:\", gender_counts)\n",
        "\n",
        "male_female = {k: v for k, v in gender_counts.items() if k in [\"m\",\"f\"]}\n",
        "fig = plt.figure(figsize = (10, 5))\n",
        "def plot_occurrences(counts):\n",
        "\n",
        "    plt.bar(counts.keys(), counts.values(), color ='maroon',\n",
        "        width = 0.2)\n",
        "    plt.xlabel('Values')\n",
        "    plt.ylabel('Counts')\n",
        "    plt.xticks(size = 15, rotation = 20)\n",
        "    plt.title('Occurrence of Gender of the Users',\n",
        "          size = 20)\n",
        "    plt.show()\n",
        "\n",
        "plot_occurrences(male_female)"
      ]
    },
    {
      "cell_type": "code",
      "execution_count": null,
      "metadata": {
        "id": "y27dF-2bR_u9",
        "colab": {
          "base_uri": "https://localhost:8080/"
        },
        "outputId": "d7617968-c0ba-43fe-d90c-81fccaad0826"
      },
      "outputs": [
        {
          "output_type": "execute_result",
          "data": {
            "text/plain": [
              "Text(0.5, 1.0, 'Count of Users of Each Age Group')"
            ]
          },
          "metadata": {},
          "execution_count": 108
        },
        {
          "output_type": "display_data",
          "data": {
            "text/plain": [
              "<Figure size 720x360 with 1 Axes>"
            ],
            "image/png": "[encoded data removed]"
          },
          "metadata": {
            "needs_background": "light"
          }
        }
      ],
      "source": [
        "ages =  read_from_file(USER_FILE, 2)\n",
        "ages =  [int(i) for i in ages if i!='-1']\n",
        "agesbin = np.histogram(ages, bins=5)\n",
        "agesgroup = ['0-22', '23-44', '45-67', '68-89', '90-112']\n",
        "# creating the bar plot\n",
        "fig = plt.figure(figsize = (10, 5))\n",
        "plt.bar(agesgroup, agesbin[0], color ='maroon',\n",
        "        width = 0.4)\n",
        "plt.xticks(size = 15, rotation = 20)\n",
        "plt.title('Count of Users of Each Age Group',\n",
        "          size = 20)"
      ]
    },
    {
      "cell_type": "code",
      "execution_count": null,
      "metadata": {
        "id": "0uGlv2XuR_xd"
      },
      "outputs": [],
      "source": [
        "UAM.eliminate_zeros()"
      ]
    },
    {
      "cell_type": "code",
      "execution_count": null,
      "metadata": {
        "id": "k6H0N3SXR_2j"
      },
      "outputs": [],
      "source": [
        "uamdata = UAM.data"
      ]
    },
    {
      "cell_type": "code",
      "source": [
        "quantiles = np.quantile(uamdata, np.arange(10) * 0.1 + 0.1)"
      ],
      "metadata": {
        "id": "Km4UYTsYRoE5"
      },
      "execution_count": null,
      "outputs": []
    },
    {
      "cell_type": "code",
      "source": [
        " np.arange(10) * 0.1 + 0.1"
      ],
      "metadata": {
        "id": "p959GcghU4de",
        "colab": {
          "base_uri": "https://localhost:8080/"
        },
        "outputId": "ec892199-b559-4b35-c064-bc1a197220a3"
      },
      "execution_count": null,
      "outputs": [
        {
          "output_type": "execute_result",
          "data": {
            "text/plain": [
              "array([0.1, 0.2, 0.3, 0.4, 0.5, 0.6, 0.7, 0.8, 0.9, 1. ])"
            ]
          },
          "metadata": {},
          "execution_count": 112
        }
      ]
    },
    {
      "cell_type": "code",
      "source": [
        "fig = plt.figure(figsize = (10, 5))\n",
        "plt.bar(['0-10th q', '10-20th q', '20-30th q', '30-40th q', '40-50th q',\n",
        "         '50-60th q', '60-70th q', '70-80th q', '80-90th q'], quantiles[:-1] , color ='maroon',\n",
        "        width = 0.4)\n",
        "plt.xticks(size = 15, rotation = 20)\n",
        "plt.title('Distribution of Quantiles of Play Counts 0-90th quantile',\n",
        "          size = 20)"
      ],
      "metadata": {
        "id": "fchqGtnUSg0y",
        "colab": {
          "base_uri": "https://localhost:8080/"
        },
        "outputId": "aea66d63-80fc-4618-e8f5-b5c9fcdac23c"
      },
      "execution_count": null,
      "outputs": [
        {
          "output_type": "execute_result",
          "data": {
            "text/plain": [
              "Text(0.5, 1.0, 'Distribution of Quantiles of Play Counts 0-90th quantile')"
            ]
          },
          "metadata": {},
          "execution_count": 113
        },
        {
          "output_type": "display_data",
          "data": {
            "text/plain": [
              "<Figure size 720x360 with 1 Axes>"
            ],
            "image/png": "[encoded data removed]"
          },
          "metadata": {
            "needs_background": "light"
          }
        }
      ]
    },
    {
      "cell_type": "code",
      "source": [
        "#fig = plt.figure(figsize = (10, 5))\n",
        "\n",
        "#groupcountdict = {}\n",
        "#groupcountdict.keys = groupnames\n",
        "#groupcountdict.values = list(groupcount.values())\n",
        "#groupcountdict = sorted(groupcountdict.items(), key=lambda kv:\n",
        "#                 (kv[1], kv[0]))\n",
        "\n",
        "# creating the bar plot\n",
        "#plt.bar(courses, list(groupcount.values()), color ='maroon',\n",
        "#        width = 0.4)\n",
        "#plt.title('Count of Users from Top20 Countries')"
      ],
      "metadata": {
        "id": "h6Okku9aNfHP"
      },
      "execution_count": null,
      "outputs": []
    },
    {
      "cell_type": "markdown",
      "metadata": {
        "id": "_Fhcnu8NXot_"
      },
      "source": [
        "### Sampling"
      ]
    },
    {
      "cell_type": "code",
      "execution_count": null,
      "metadata": {
        "id": "ukQXJ5sDXq6J",
        "colab": {
          "base_uri": "https://localhost:8080/"
        },
        "outputId": "9ab94807-9c9a-4055-c040-f80ab361f429"
      },
      "outputs": [
        {
          "output_type": "stream",
          "name": "stdout",
          "text": [
            "Number of rows: 2000\n",
            "Number of columns: 585095\n"
          ]
        }
      ],
      "source": [
        "# Dataset sampling (2000 users)\n",
        "import random\n",
        "\n",
        "user_idx = np.arange(0,len(user_ids))\n",
        "users_samp =random.sample(list(user_idx), 2000)\n",
        "\n",
        "random.seed(42)\n",
        "random.shuffle(users_samp)\n",
        "\n",
        "# Initialize variables\n",
        "artists = []            # artists\n",
        "users = []              # users\n",
        "users_initial = []\n",
        "\n",
        "# Load metadata from provided files into lists\n",
        "artists = read_from_file(ARTISTS_FILE, 1)\n",
        "users_initial = read_from_file(USERS_FILE, 0)\n",
        "\n",
        "# Save users id for future modeling use\n",
        "users = [users_initial[i] for i in users_samp]\n",
        "\n",
        "samp_UAM = UAM[users_samp,:]\n",
        "rows, columns = samp_UAM.shape\n",
        "print(\"Number of rows:\", rows)\n",
        "print(\"Number of columns:\", columns)  "
      ]
    },
    {
      "cell_type": "code",
      "execution_count": null,
      "metadata": {
        "id": "4a-368GwXq8y"
      },
      "outputs": [],
      "source": [
        "# for each user, sample our indices of nonzeros to be changed to 0s in training set\n",
        "cols_to_zeros = []\n",
        "\n",
        "for user in range(rows):\n",
        "  # get all non-zero col indices\n",
        "  _, artists_index = samp_UAM[user, :].nonzero()\n",
        "  len_samp_nonzeros = int(0.1*len(artists_index))\n",
        "  \n",
        "  # make sure test set has at least one entry\n",
        "  if len_samp_nonzeros <= 0:\n",
        "    len_samp_nonzeros = 1\n",
        "  \n",
        "  # sample col indices to be changed to 0\n",
        "  col_to_zero = random.sample(list(artists_index), len_samp_nonzeros)\n",
        "  user_id = users[user]\n",
        "  cols_to_zeros.append((user_id, col_to_zero))"
      ]
    },
    {
      "cell_type": "code",
      "execution_count": null,
      "metadata": {
        "id": "75vn8_oNXq_L"
      },
      "outputs": [],
      "source": [
        "# construct the training set and test set\n",
        "# test_samp_UAM = samp_UAM.copy()\n",
        "\n",
        "# 1s to be changed to 0s in training set\n",
        "train_samp_UAM = samp_UAM.copy()\n",
        "\n",
        "for user in range(rows): \n",
        "  col_to_zero = cols_to_zeros[user][1]\n",
        "  train_samp_UAM[user, col_to_zero] = 0"
      ]
    },
    {
      "cell_type": "markdown",
      "source": [
        "Sanity check below"
      ],
      "metadata": {
        "id": "85Yme45FB-nb"
      }
    },
    {
      "cell_type": "code",
      "source": [
        "train_samp_UAM[1,cols_to_zeros[1][1]].todense()"
      ],
      "metadata": {
        "id": "gegU7jxZ6TAP",
        "colab": {
          "base_uri": "https://localhost:8080/"
        },
        "outputId": "f67cf5ab-8adc-420f-a1d5-783f80c4396b"
      },
      "execution_count": null,
      "outputs": [
        {
          "output_type": "execute_result",
          "data": {
            "text/plain": [
              "matrix([[0., 0., 0., 0., 0., 0., 0., 0., 0., 0., 0., 0., 0., 0., 0., 0.,\n",
              "         0., 0., 0., 0., 0., 0., 0., 0., 0., 0., 0., 0., 0., 0., 0., 0.,\n",
              "         0., 0., 0., 0., 0., 0., 0., 0., 0., 0., 0., 0., 0., 0., 0., 0.,\n",
              "         0., 0., 0., 0., 0., 0., 0., 0., 0., 0., 0., 0., 0., 0., 0., 0.,\n",
              "         0., 0., 0., 0., 0., 0., 0., 0., 0., 0., 0., 0., 0., 0., 0., 0.,\n",
              "         0., 0., 0., 0., 0., 0., 0., 0., 0., 0., 0., 0., 0., 0., 0., 0.,\n",
              "         0., 0., 0., 0., 0., 0., 0., 0., 0., 0., 0., 0., 0., 0., 0., 0.,\n",
              "         0., 0., 0., 0., 0., 0., 0., 0., 0., 0., 0., 0., 0., 0., 0., 0.,\n",
              "         0., 0., 0., 0., 0., 0., 0., 0., 0., 0., 0., 0., 0., 0., 0., 0.,\n",
              "         0., 0., 0., 0.]])"
            ]
          },
          "metadata": {},
          "execution_count": 267
        }
      ]
    },
    {
      "cell_type": "code",
      "source": [
        "# Code for sanity check\n",
        "type(samp_UAM)\n",
        "samp_UAM[1,cols_to_zeros[1][1]].todense()\n",
        "train_samp_UAM[1,cols_to_zeros[1][1]].todense()\n",
        "samp_UAM[:,cols_to_zeros[1][1]].todense()\n",
        "cols_to_zeros[1][1]\n",
        "len(cols_to_zeros[1][1])\n",
        "len(samp_UAM[1, :].nonzero()[1])\n",
        "samp_UAM[1,cols_to_zeros[1][1]].todense().shape"
      ],
      "metadata": {
        "id": "_dQZ1TBGzXZP",
        "colab": {
          "base_uri": "https://localhost:8080/"
        },
        "outputId": "24daa8f2-a96d-40fd-aa2c-bbc51edf1c8b"
      },
      "execution_count": null,
      "outputs": [
        {
          "output_type": "execute_result",
          "data": {
            "text/plain": [
              "(1, 148)"
            ]
          },
          "metadata": {},
          "execution_count": 268
        }
      ]
    },
    {
      "cell_type": "code",
      "source": [
        "samp_UAM[1,cols_to_zeros[1][1]].todense()"
      ],
      "metadata": {
        "id": "afHw5dWb38hT",
        "colab": {
          "base_uri": "https://localhost:8080/"
        },
        "outputId": "8a6f5605-3e21-4447-8604-e977f24ab3ee"
      },
      "execution_count": null,
      "outputs": [
        {
          "output_type": "execute_result",
          "data": {
            "text/plain": [
              "matrix([[7.000e+01, 1.000e+00, 1.000e+00, 8.150e+02, 8.000e+00,\n",
              "         1.000e+00, 1.000e+00, 2.000e+00, 1.120e+02, 4.000e+00,\n",
              "         1.000e+00, 1.000e+00, 1.000e+00, 1.900e+01, 1.000e+00,\n",
              "         1.000e+00, 1.300e+01, 1.333e+03, 4.400e+01, 1.000e+00,\n",
              "         1.700e+01, 9.100e+01, 2.000e+00, 5.980e+02, 2.000e+00,\n",
              "         1.000e+00, 1.000e+01, 1.000e+00, 1.000e+00, 8.800e+01,\n",
              "         2.000e+00, 3.000e+00, 4.000e+00, 2.100e+01, 2.000e+00,\n",
              "         2.210e+02, 1.800e+01, 1.000e+00, 2.400e+01, 2.000e+00,\n",
              "         4.000e+00, 1.000e+00, 1.000e+00, 2.000e+00, 1.000e+00,\n",
              "         5.000e+00, 1.000e+00, 2.000e+01, 1.000e+00, 1.000e+00,\n",
              "         1.000e+00, 1.000e+00, 1.000e+00, 3.700e+01, 2.000e+00,\n",
              "         1.000e+00, 2.000e+00, 7.390e+02, 1.000e+00, 1.000e+00,\n",
              "         3.000e+00, 1.130e+02, 1.000e+01, 1.000e+00, 9.000e+00,\n",
              "         1.000e+00, 8.000e+00, 1.000e+00, 6.000e+00, 1.000e+00,\n",
              "         2.000e+00, 9.740e+02, 1.000e+00, 3.100e+01, 2.230e+02,\n",
              "         1.000e+00, 1.000e+00, 1.000e+00, 3.000e+00, 2.000e+00,\n",
              "         3.010e+02, 1.000e+00, 1.000e+00, 3.000e+00, 2.300e+01,\n",
              "         1.000e+00, 2.400e+01, 2.000e+00, 1.000e+00, 1.000e+00,\n",
              "         1.200e+02, 2.000e+00, 7.400e+02, 3.600e+01, 1.000e+00,\n",
              "         6.700e+01, 7.010e+02, 1.000e+00, 1.000e+00, 1.000e+00,\n",
              "         4.000e+00, 1.000e+00, 2.300e+01, 1.000e+00, 1.000e+00,\n",
              "         1.000e+00, 3.000e+00, 2.000e+00, 1.100e+01, 5.880e+02,\n",
              "         2.400e+01, 1.000e+00, 1.000e+00, 1.200e+01, 1.000e+00,\n",
              "         3.000e+00, 2.580e+02, 1.000e+00, 1.000e+01, 3.800e+01,\n",
              "         7.000e+00, 2.000e+00, 1.000e+00, 1.000e+00, 1.000e+00,\n",
              "         1.000e+00, 1.600e+01, 1.000e+00, 3.000e+00, 3.000e+00,\n",
              "         1.660e+02, 1.000e+00, 4.700e+01, 4.200e+01, 2.400e+01,\n",
              "         1.000e+00, 1.000e+00, 7.700e+01, 1.000e+00, 6.500e+01,\n",
              "         3.450e+02, 1.000e+00, 3.200e+01, 1.000e+00, 1.000e+00,\n",
              "         3.000e+00, 1.000e+00, 4.000e+01]])"
            ]
          },
          "metadata": {},
          "execution_count": 269
        }
      ]
    },
    {
      "cell_type": "code",
      "source": [
        "cols_to_zeros[1][1]"
      ],
      "metadata": {
        "colab": {
          "base_uri": "https://localhost:8080/"
        },
        "id": "-yX0XS0hE82Q",
        "outputId": "040e932f-1d99-4304-c1df-7f1bb217ee41"
      },
      "execution_count": null,
      "outputs": [
        {
          "output_type": "execute_result",
          "data": {
            "text/plain": [
              "[29844,\n",
              " 5427,\n",
              " 215305,\n",
              " 18774,\n",
              " 9024,\n",
              " 25734,\n",
              " 511,\n",
              " 233136,\n",
              " 375,\n",
              " 2604,\n",
              " 23299,\n",
              " 20715,\n",
              " 30135,\n",
              " 26515,\n",
              " 3682,\n",
              " 13464,\n",
              " 75869,\n",
              " 2374,\n",
              " 9687,\n",
              " 544953,\n",
              " 10281,\n",
              " 14269,\n",
              " 18001,\n",
              " 2211,\n",
              " 15624,\n",
              " 35709,\n",
              " 46345,\n",
              " 1539,\n",
              " 5377,\n",
              " 26936,\n",
              " 1913,\n",
              " 6469,\n",
              " 25226,\n",
              " 5467,\n",
              " 2341,\n",
              " 1338,\n",
              " 299,\n",
              " 8224,\n",
              " 16620,\n",
              " 82508,\n",
              " 20858,\n",
              " 5480,\n",
              " 2642,\n",
              " 10918,\n",
              " 57561,\n",
              " 574730,\n",
              " 3244,\n",
              " 2634,\n",
              " 31175,\n",
              " 27158,\n",
              " 31216,\n",
              " 9507,\n",
              " 31103,\n",
              " 129,\n",
              " 1237,\n",
              " 17292,\n",
              " 32237,\n",
              " 26040,\n",
              " 5334,\n",
              " 4040,\n",
              " 60065,\n",
              " 14427,\n",
              " 294,\n",
              " 7470,\n",
              " 30768,\n",
              " 69458,\n",
              " 137117,\n",
              " 176379,\n",
              " 27613,\n",
              " 7841,\n",
              " 43354,\n",
              " 38,\n",
              " 1558,\n",
              " 22233,\n",
              " 2258,\n",
              " 6367,\n",
              " 15510,\n",
              " 18545,\n",
              " 276,\n",
              " 18171,\n",
              " 301,\n",
              " 49593,\n",
              " 3417,\n",
              " 15264,\n",
              " 45874,\n",
              " 8106,\n",
              " 546,\n",
              " 16707,\n",
              " 32087,\n",
              " 25413,\n",
              " 45476,\n",
              " 7400,\n",
              " 90397,\n",
              " 202647,\n",
              " 79359,\n",
              " 1726,\n",
              " 2066,\n",
              " 17303,\n",
              " 15798,\n",
              " 13253,\n",
              " 46066,\n",
              " 15410,\n",
              " 2375,\n",
              " 3553,\n",
              " 72789,\n",
              " 32798,\n",
              " 18254,\n",
              " 31463,\n",
              " 247,\n",
              " 241,\n",
              " 2292,\n",
              " 467666,\n",
              " 11822,\n",
              " 28726,\n",
              " 39323,\n",
              " 26018,\n",
              " 2444,\n",
              " 74529,\n",
              " 36339,\n",
              " 2337,\n",
              " 11323,\n",
              " 81282,\n",
              " 10244,\n",
              " 2684,\n",
              " 17223,\n",
              " 83288,\n",
              " 9071,\n",
              " 65169,\n",
              " 12225,\n",
              " 32486,\n",
              " 33314,\n",
              " 43294,\n",
              " 30511,\n",
              " 432632,\n",
              " 46434,\n",
              " 9077,\n",
              " 28806,\n",
              " 83,\n",
              " 15562,\n",
              " 11727,\n",
              " 180104,\n",
              " 1571,\n",
              " 20728,\n",
              " 60477,\n",
              " 9485,\n",
              " 226027,\n",
              " 98587,\n",
              " 149]"
            ]
          },
          "metadata": {},
          "execution_count": 270
        }
      ]
    },
    {
      "cell_type": "code",
      "source": [
        "_, a = samp_UAM[1, ].nonzero()"
      ],
      "metadata": {
        "id": "kYBj172PE4I0"
      },
      "execution_count": null,
      "outputs": []
    },
    {
      "cell_type": "code",
      "source": [
        "samp_UAM[1, ].nonzero()"
      ],
      "metadata": {
        "colab": {
          "base_uri": "https://localhost:8080/"
        },
        "id": "owt_xkVJFdXv",
        "outputId": "5025a4ca-efdd-48ee-b2c2-39f030f55401"
      },
      "execution_count": null,
      "outputs": [
        {
          "output_type": "execute_result",
          "data": {
            "text/plain": [
              "(array([0, 0, 0, ..., 0, 0, 0], dtype=int32),\n",
              " array([     2,      3,      5, ..., 579197, 580079, 581833], dtype=int32))"
            ]
          },
          "metadata": {},
          "execution_count": 272
        }
      ]
    },
    {
      "cell_type": "code",
      "source": [
        "_, b = train_samp_UAM[1, ].nonzero()"
      ],
      "metadata": {
        "id": "BCctPBDsFNx6"
      },
      "execution_count": null,
      "outputs": []
    },
    {
      "cell_type": "code",
      "source": [
        "train_samp_UAM[1, ].nonzero()"
      ],
      "metadata": {
        "colab": {
          "base_uri": "https://localhost:8080/"
        },
        "id": "aUEBKCYqFWEo",
        "outputId": "0a61e6ab-2b91-4a77-8c32-e62fdcf0a796"
      },
      "execution_count": null,
      "outputs": [
        {
          "output_type": "execute_result",
          "data": {
            "text/plain": [
              "(array([0, 0, 0, ..., 0, 0, 0], dtype=int32),\n",
              " array([     2,      3,      5, ..., 579197, 580079, 581833], dtype=int32))"
            ]
          },
          "metadata": {},
          "execution_count": 274
        }
      ]
    },
    {
      "cell_type": "code",
      "source": [
        "train_samp_UAM[1,cols_to_zeros[1][1]].todense()"
      ],
      "metadata": {
        "id": "j2R1ok0r4Gif",
        "colab": {
          "base_uri": "https://localhost:8080/"
        },
        "outputId": "a4c8ace7-226a-4f70-830a-6087eae67537"
      },
      "execution_count": null,
      "outputs": [
        {
          "output_type": "execute_result",
          "data": {
            "text/plain": [
              "matrix([[0., 0., 0., 0., 0., 0., 0., 0., 0., 0., 0., 0., 0., 0., 0., 0.,\n",
              "         0., 0., 0., 0., 0., 0., 0., 0., 0., 0., 0., 0., 0., 0., 0., 0.,\n",
              "         0., 0., 0., 0., 0., 0., 0., 0., 0., 0., 0., 0., 0., 0., 0., 0.,\n",
              "         0., 0., 0., 0., 0., 0., 0., 0., 0., 0., 0., 0., 0., 0., 0., 0.,\n",
              "         0., 0., 0., 0., 0., 0., 0., 0., 0., 0., 0., 0., 0., 0., 0., 0.,\n",
              "         0., 0., 0., 0., 0., 0., 0., 0., 0., 0., 0., 0., 0., 0., 0., 0.,\n",
              "         0., 0., 0., 0., 0., 0., 0., 0., 0., 0., 0., 0., 0., 0., 0., 0.,\n",
              "         0., 0., 0., 0., 0., 0., 0., 0., 0., 0., 0., 0., 0., 0., 0., 0.,\n",
              "         0., 0., 0., 0., 0., 0., 0., 0., 0., 0., 0., 0., 0., 0., 0., 0.,\n",
              "         0., 0., 0., 0.]])"
            ]
          },
          "metadata": {},
          "execution_count": 275
        }
      ]
    },
    {
      "cell_type": "code",
      "source": [
        "len(train_samp_UAM[1, ].nonzero())"
      ],
      "metadata": {
        "colab": {
          "base_uri": "https://localhost:8080/"
        },
        "id": "akQ7Oud6GI80",
        "outputId": "2596be9b-35b7-4b2e-b459-b0ece894c94e"
      },
      "execution_count": null,
      "outputs": [
        {
          "output_type": "execute_result",
          "data": {
            "text/plain": [
              "2"
            ]
          },
          "metadata": {},
          "execution_count": 276
        }
      ]
    },
    {
      "cell_type": "code",
      "source": [
        "train_samp_UAM.getrow(1).indices\n",
        "len(train_samp_UAM.getrow(1).indices)"
      ],
      "metadata": {
        "colab": {
          "base_uri": "https://localhost:8080/"
        },
        "id": "95XfGM5PFjd-",
        "outputId": "c06621e7-56c3-434b-a7cb-7dcf62d17598"
      },
      "execution_count": null,
      "outputs": [
        {
          "output_type": "execute_result",
          "data": {
            "text/plain": [
              "1481"
            ]
          },
          "metadata": {},
          "execution_count": 277
        }
      ]
    },
    {
      "cell_type": "markdown",
      "metadata": {
        "id": "tg2S01pzXPEc"
      },
      "source": [
        "### Collaborative Filtering"
      ]
    },
    {
      "cell_type": "code",
      "source": [
        "K = 25"
      ],
      "metadata": {
        "id": "oMBI8qmqVmYB"
      },
      "execution_count": null,
      "outputs": []
    },
    {
      "cell_type": "markdown",
      "metadata": {
        "id": "N8piUe3HXlgE"
      },
      "source": [
        "Modeling"
      ]
    },
    {
      "cell_type": "code",
      "execution_count": null,
      "metadata": {
        "id": "sbyb8eoEWdrO"
      },
      "outputs": [],
      "source": [
        "# Implementation of a very simple and much to improve user-based collaborative filtering (CF) recommender.\n",
        "def collaborative_filtering(u = 0, K_val = K, UAM1 = train_samp_UAM, artists = artists, users = users):\n",
        "\n",
        "  # For all users\n",
        "  #for u in range(0, UAM.shape[0]):\n",
        "  #  print(\"Seed user-id: \" + str(users[u]))\n",
        "\n",
        "  # get (normalized) playcount vector for current user u\n",
        "  pc_vec = UAM1.getrow(u)\n",
        "\n",
        "  # Compute similarities as dot product between playcount vector of user and all users via UAM (assuming that UAM is already normalized)\n",
        "  uU_sim = pc_vec.dot(UAM1.transpose()).tocoo()\n",
        "  uU_user_idx = uU_sim.col\n",
        "  uU_data = uU_sim.data\n",
        "\n",
        "  # Determine nearest neighbors to seed based on uUM\n",
        "\n",
        "  # Find the occurrence of the seed user in uU_data cols\n",
        "  # and set to 0 so that it is not selected as its own NN\n",
        "  occ_user_idx = (uU_user_idx == u)\n",
        "  uU_data[occ_user_idx] = 0\n",
        "\n",
        "  # Eliminate zeros\n",
        "  uU_sim.data = uU_data\n",
        "  uU_sim = uU_sim.tocsr()\n",
        "  uU_sim.eliminate_zeros()\n",
        "  uU_sim = uU_sim.tocoo()\n",
        "  uU_user_idx = uU_sim.col\n",
        "  uU_data = uU_sim.data\n",
        "\n",
        "  # Sort users according to the similarity (uU_data)\n",
        "  sort_index = np.argsort(uU_data)\n",
        "\n",
        "  # Select the K nearest neighbors among all users\n",
        "  # Note that uU_user_idx indeed provides the indices for users in UAM\n",
        "  recommended_user_idx = uU_user_idx[sort_index[-K_val:]]\n",
        "  # Get user_ids corresponding to nearest neighbors\n",
        "  recommended_user_ids = user_ids[recommended_user_idx]\n",
        "  # Get similarity score for nearest neighbors\n",
        "  recommended_user_scores = uU_data[sort_index[-K_val:]]\n",
        "\n",
        "  #print(\"Nearest K=\" + str(K) + \" neighbors\\' user-ids: \", recommended_user_ids.flatten())\n",
        "  # print('Scores/similarities:  ' + str(recommended_user_scores))\n",
        "  # print('Index in UAM for recommended user-ids: ' + str(recommended_user_idx))\n",
        "\n",
        "  # Determine set of recommended artists\n",
        "\n",
        "  recommended_artists_idx = []\n",
        "  for u_idx in recommended_user_idx:\n",
        "      recommended_artists_idx.extend(list(UAM1.getrow(u_idx).indices))\n",
        "\n",
        "  # Convert to set to remove duplicates and sort it\n",
        "  recommended_artists_idx = sorted(set(recommended_artists_idx))\n",
        "  # Remove artists already known to seed user\n",
        "  # recommended_artists_idx = np.setdiff1d(recommended_artists_idx, pc_vec.indices)\n",
        "\n",
        "  #print(\"Indices of \" + str(len(recommended_artists_idx)) + \" recommended artists: \", recommended_artists_idx)\n",
        "  return (users[u], recommended_artists_idx)"
      ]
    },
    {
      "cell_type": "markdown",
      "metadata": {
        "id": "JuiO56CP7phr"
      },
      "source": [
        "Generate the results for all the sampled data"
      ]
    },
    {
      "cell_type": "code",
      "execution_count": null,
      "metadata": {
        "id": "5MEztfFFXtXQ"
      },
      "outputs": [],
      "source": [
        "collaborative_res = []\n",
        "for i in range(len(users_samp)):\n",
        "  collaborative_res.append(collaborative_filtering(u = i, K_val = K, UAM1 = train_samp_UAM, artists = artists, users = users))"
      ]
    },
    {
      "cell_type": "markdown",
      "source": [
        "### Collaborative Filtering +"
      ],
      "metadata": {
        "id": "crpvCPDcXh84"
      }
    },
    {
      "cell_type": "code",
      "source": [
        "def collaborative_filtering_plus(u = 0, K_val = K, UAM1 = train_samp_UAM, artists = artists, users = users):\n",
        "\n",
        "  # get (normalized) playcount vector for current user u\n",
        "  # note that the following getrow code will actually return all nonzero columns\n",
        "  # from the orginial matrix, not nonzero columns from the sampled matrix\n",
        "  # Therefore no setdiff is needed\n",
        "  pc_vec = UAM1.getrow(u)\n",
        "\n",
        "  # Compute similarities as dot product between playcount vector of user and all users via UAM (assuming that UAM is already normalized)\n",
        "  uU_sim = pc_vec.dot(UAM1.transpose()).tocoo()\n",
        "  uU_user_idx = uU_sim.col\n",
        "  uU_data = uU_sim.data\n",
        "\n",
        "  # Determine nearest neighbors to seed based on uUM\n",
        "\n",
        "  # Find the occurrence of the seed user in uU_data cols\n",
        "  # and set to 0 so that it is not selected as its own NN\n",
        "  occ_user_idx = (uU_user_idx == u)\n",
        "  uU_data[occ_user_idx] = 0\n",
        "\n",
        "  # Eliminate zeros\n",
        "  uU_sim.data = uU_data\n",
        "  uU_sim = uU_sim.tocsr()\n",
        "  uU_sim.eliminate_zeros()\n",
        "  uU_sim = uU_sim.tocoo()\n",
        "  uU_user_idx = uU_sim.col\n",
        "  uU_data = uU_sim.data\n",
        "\n",
        "  # Sort users according to the similarity (uU_data)\n",
        "  sort_index = np.argsort(uU_data)\n",
        "\n",
        "  # Select the K nearest neighbors among all users\n",
        "  # Note that uU_user_idx indeed provides the indices for users in UAM\n",
        "  recommended_user_idx = uU_user_idx[sort_index[-K_val:]]\n",
        "  # Get user_ids corresponding to nearest neighbors\n",
        "  recommended_user_ids = user_ids[recommended_user_idx]\n",
        "  # Get similarity score for nearest neighbors\n",
        "  recommended_user_scores = uU_data[sort_index[-K_val:]]\n",
        "\n",
        "  recommended_artists_idx = {}\n",
        "  for u_idx in recommended_user_idx:\n",
        "    neighbor_row = UAM1.getrow(u_idx).tocoo()\n",
        "    neighbor_data = neighbor_row.data\n",
        "    neighbor_col = neighbor_row.col\n",
        "    for i in range(len(neighbor_col)):\n",
        "      if neighbor_col[i] in recommended_artists_idx:\n",
        "        recommended_artists_idx[neighbor_col[i]] += neighbor_data[i]\n",
        "      else:\n",
        "        recommended_artists_idx[neighbor_col[i]] = neighbor_data[i]\n",
        "  #for i in list(recommended_artists_idx):\n",
        "  #  if i in pc_vec.indices:\n",
        "  #    recommended_artists_idx.pop(i)\n",
        "  recommendation = [(k, v) for k, v in recommended_artists_idx.items()]\n",
        "  recommendation = sorted(recommendation, key=lambda x: -x[1])\n",
        "  recommendation_artists = np.array([a for a,b in recommendation])\n",
        "\n",
        "  # Remove artists already known to seed user\n",
        "  # recommendation_artists = np.setdiff1d(recommendation_artists, pc_vec.indices)\n",
        "\n",
        "  return (users[u], recommendation_artists)"
      ],
      "metadata": {
        "id": "PQmuegp3Xlh1"
      },
      "execution_count": null,
      "outputs": []
    },
    {
      "cell_type": "code",
      "source": [
        "collaborative_plus_res = []\n",
        "for i in range(len(users_samp)):\n",
        "  collaborative_plus_res.append(collaborative_filtering_plus(u = i))"
      ],
      "metadata": {
        "id": "wLqVv9_4gQpX"
      },
      "execution_count": null,
      "outputs": []
    },
    {
      "cell_type": "markdown",
      "source": [
        "### Demographic Filtering"
      ],
      "metadata": {
        "id": "7cfm04j0ZTP8"
      }
    },
    {
      "cell_type": "code",
      "source": [
        "import pandas as pd\n",
        "import numpy as np\n",
        "from sklearn.metrics.pairwise import cosine_similarity\n",
        "import pyspark.sql.functions as F\n",
        "\n",
        "user_id =  read_from_file(USER_FILE, 0)\n",
        "country =  read_from_file(USER_FILE, 1)\n",
        "age =  read_from_file(USER_FILE, 2)\n",
        "gender =  read_from_file(USER_FILE, 3)\n",
        "\n",
        "### deal with missing values by filling with either mode, or categorical values by ratio, or N/A ###\n",
        "age = [val if val != '-1' else '25' for val in age]\n",
        "country = [val if val != '' else 'N/A' for val in country]\n",
        "\n",
        "gender = [val if val != 'n' else '' for val in gender]\n",
        "gender = np.array(gender)\n",
        "# Count the number of 'f' and 'm' values in the array\n",
        "counts = np.unique(gender, return_counts=True)\n",
        "f_count = counts[1][np.where(counts[0] == 'f')[0][0]]\n",
        "m_count = counts[1][np.where(counts[0] == 'm')[0][0]]\n",
        "\n",
        "# Determine the number of missing values to fill in\n",
        "missing_count = len(gender) - f_count - m_count\n",
        "\n",
        "# Randomly assign 'f' or 'm' to each missing value with a 3:7 ratio\n",
        "fill_values = np.random.choice(['f', 'm'], size=missing_count, p=[0.283, 0.717])\n",
        "gender[gender == ''] = fill_values\n"
      ],
      "metadata": {
        "id": "8hwGqCjkdaEB"
      },
      "execution_count": null,
      "outputs": []
    },
    {
      "cell_type": "code",
      "source": [
        "# Combine the arrays into a Pandas DataFrame\n",
        "demographic_data = {\n",
        "        'country': country,\n",
        "        'age': age,\n",
        "        'gender': gender}\n",
        "demographic_df = pd.DataFrame(demographic_data)\n",
        "demographic_df['age'] = demographic_df['age'].astype(int)\n",
        "#demographic_df['age'] = (demographic_df['age'] - demographic_df['age'].mean()) / demographic_df['age'].std()\n",
        "\n",
        "# Preprocess the data\n",
        "#demographic_df.replace('', pd.NA, inplace=True)\n",
        "#demographic_df = demographic_df.dropna()  # drop any rows with missing values\n",
        "demographic_df = pd.get_dummies(demographic_df, columns=[\"country\", \"gender\"])  # convert categorical variables to one-hot encoding\n",
        "\n",
        "# Dataset sampling (1000 users)\n",
        "#import random\n",
        "#user_idx = np.arange(0,len(user_id))\n",
        "#users_samp =random.sample(list(user_idx), 1000)\n",
        "#random.seed(42)\n",
        "#random.shuffle(users_samp)\n",
        "# Initialize variables\n",
        "#users = []              # users\n",
        "# Save users id for future modeling use\n",
        "#users = [user_id[i] for i in users_samp] \n",
        "\n",
        "samp_df = demographic_df.iloc[users_samp]\n",
        "samp_df"
      ],
      "metadata": {
        "id": "qYJ496LIdhBY",
        "colab": {
          "base_uri": "https://localhost:8080/",
          "height": 488
        },
        "outputId": "d2d8d402-4959-4ca3-8e1f-8631733cbfd5"
      },
      "execution_count": null,
      "outputs": [
        {
          "output_type": "execute_result",
          "data": {
            "text/plain": [
              "        age  country_AD  country_AE  country_AF  country_AL  country_AM  \\\n",
              "71211    25           0           0           0           0           0   \n",
              "10752    25           0           0           0           0           0   \n",
              "36877    25           0           0           0           0           0   \n",
              "43343    25           0           0           0           0           0   \n",
              "78386    25           0           0           0           0           0   \n",
              "...     ...         ...         ...         ...         ...         ...   \n",
              "108565   25           0           0           0           0           0   \n",
              "73339    15           0           0           0           0           0   \n",
              "2128     30           0           0           0           0           0   \n",
              "73619    24           0           0           0           0           0   \n",
              "69391    25           0           0           0           0           0   \n",
              "\n",
              "        country_AO  country_AQ  country_AR  country_AS  ...  country_VN  \\\n",
              "71211            0           0           0           0  ...           0   \n",
              "10752            0           0           0           0  ...           0   \n",
              "36877            0           0           0           0  ...           0   \n",
              "43343            0           0           0           0  ...           0   \n",
              "78386            0           0           0           0  ...           0   \n",
              "...            ...         ...         ...         ...  ...         ...   \n",
              "108565           0           0           0           0  ...           0   \n",
              "73339            0           0           0           0  ...           0   \n",
              "2128             0           0           0           0  ...           0   \n",
              "73619            0           0           0           0  ...           0   \n",
              "69391            0           0           0           0  ...           0   \n",
              "\n",
              "        country_VU  country_WF  country_WS  country_YE  country_ZA  \\\n",
              "71211            0           0           0           0           0   \n",
              "10752            0           0           0           0           0   \n",
              "36877            0           0           0           0           0   \n",
              "43343            0           0           0           0           0   \n",
              "78386            0           0           0           0           0   \n",
              "...            ...         ...         ...         ...         ...   \n",
              "108565           0           0           0           0           0   \n",
              "73339            0           0           0           0           0   \n",
              "2128             0           0           0           0           0   \n",
              "73619            0           0           0           0           0   \n",
              "69391            0           0           0           0           0   \n",
              "\n",
              "        country_ZM  country_ZW  gender_f  gender_m  \n",
              "71211            0           0         0         1  \n",
              "10752            0           0         0         1  \n",
              "36877            0           0         0         1  \n",
              "43343            0           0         0         1  \n",
              "78386            0           0         0         1  \n",
              "...            ...         ...       ...       ...  \n",
              "108565           0           0         0         1  \n",
              "73339            0           0         0         1  \n",
              "2128             0           0         0         1  \n",
              "73619            0           0         1         0  \n",
              "69391            0           0         0         1  \n",
              "\n",
              "[2000 rows x 212 columns]"
            ],
            "text/html": [
              "\n",
              "  <div id=\"df-96d63f26-d948-44ed-b2c3-7ad184bd85ec\">\n",
              "    <div class=\"colab-df-container\">\n",
              "      <div>\n",
              "<style scoped>\n",
              "    .dataframe tbody tr th:only-of-type {\n",
              "        vertical-align: middle;\n",
              "    }\n",
              "\n",
              "    .dataframe tbody tr th {\n",
              "        vertical-align: top;\n",
              "    }\n",
              "\n",
              "    .dataframe thead th {\n",
              "        text-align: right;\n",
              "    }\n",
              "</style>\n",
              "<table border=\"1\" class=\"dataframe\">\n",
              "  <thead>\n",
              "    <tr style=\"text-align: right;\">\n",
              "      <th></th>\n",
              "      <th>age</th>\n",
              "      <th>country_AD</th>\n",
              "      <th>country_AE</th>\n",
              "      <th>country_AF</th>\n",
              "      <th>country_AL</th>\n",
              "      <th>country_AM</th>\n",
              "      <th>country_AO</th>\n",
              "      <th>country_AQ</th>\n",
              "      <th>country_AR</th>\n",
              "      <th>country_AS</th>\n",
              "      <th>...</th>\n",
              "      <th>country_VN</th>\n",
              "      <th>country_VU</th>\n",
              "      <th>country_WF</th>\n",
              "      <th>country_WS</th>\n",
              "      <th>country_YE</th>\n",
              "      <th>country_ZA</th>\n",
              "      <th>country_ZM</th>\n",
              "      <th>country_ZW</th>\n",
              "      <th>gender_f</th>\n",
              "      <th>gender_m</th>\n",
              "    </tr>\n",
              "  </thead>\n",
              "  <tbody>\n",
              "    <tr>\n",
              "      <th>71211</th>\n",
              "      <td>25</td>\n",
              "      <td>0</td>\n",
              "      <td>0</td>\n",
              "      <td>0</td>\n",
              "      <td>0</td>\n",
              "      <td>0</td>\n",
              "      <td>0</td>\n",
              "      <td>0</td>\n",
              "      <td>0</td>\n",
              "      <td>0</td>\n",
              "      <td>...</td>\n",
              "      <td>0</td>\n",
              "      <td>0</td>\n",
              "      <td>0</td>\n",
              "      <td>0</td>\n",
              "      <td>0</td>\n",
              "      <td>0</td>\n",
              "      <td>0</td>\n",
              "      <td>0</td>\n",
              "      <td>0</td>\n",
              "      <td>1</td>\n",
              "    </tr>\n",
              "    <tr>\n",
              "      <th>10752</th>\n",
              "      <td>25</td>\n",
              "      <td>0</td>\n",
              "      <td>0</td>\n",
              "      <td>0</td>\n",
              "      <td>0</td>\n",
              "      <td>0</td>\n",
              "      <td>0</td>\n",
              "      <td>0</td>\n",
              "      <td>0</td>\n",
              "      <td>0</td>\n",
              "      <td>...</td>\n",
              "      <td>0</td>\n",
              "      <td>0</td>\n",
              "      <td>0</td>\n",
              "      <td>0</td>\n",
              "      <td>0</td>\n",
              "      <td>0</td>\n",
              "      <td>0</td>\n",
              "      <td>0</td>\n",
              "      <td>0</td>\n",
              "      <td>1</td>\n",
              "    </tr>\n",
              "    <tr>\n",
              "      <th>36877</th>\n",
              "      <td>25</td>\n",
              "      <td>0</td>\n",
              "      <td>0</td>\n",
              "      <td>0</td>\n",
              "      <td>0</td>\n",
              "      <td>0</td>\n",
              "      <td>0</td>\n",
              "      <td>0</td>\n",
              "      <td>0</td>\n",
              "      <td>0</td>\n",
              "      <td>...</td>\n",
              "      <td>0</td>\n",
              "      <td>0</td>\n",
              "      <td>0</td>\n",
              "      <td>0</td>\n",
              "      <td>0</td>\n",
              "      <td>0</td>\n",
              "      <td>0</td>\n",
              "      <td>0</td>\n",
              "      <td>0</td>\n",
              "      <td>1</td>\n",
              "    </tr>\n",
              "    <tr>\n",
              "      <th>43343</th>\n",
              "      <td>25</td>\n",
              "      <td>0</td>\n",
              "      <td>0</td>\n",
              "      <td>0</td>\n",
              "      <td>0</td>\n",
              "      <td>0</td>\n",
              "      <td>0</td>\n",
              "      <td>0</td>\n",
              "      <td>0</td>\n",
              "      <td>0</td>\n",
              "      <td>...</td>\n",
              "      <td>0</td>\n",
              "      <td>0</td>\n",
              "      <td>0</td>\n",
              "      <td>0</td>\n",
              "      <td>0</td>\n",
              "      <td>0</td>\n",
              "      <td>0</td>\n",
              "      <td>0</td>\n",
              "      <td>0</td>\n",
              "      <td>1</td>\n",
              "    </tr>\n",
              "    <tr>\n",
              "      <th>78386</th>\n",
              "      <td>25</td>\n",
              "      <td>0</td>\n",
              "      <td>0</td>\n",
              "      <td>0</td>\n",
              "      <td>0</td>\n",
              "      <td>0</td>\n",
              "      <td>0</td>\n",
              "      <td>0</td>\n",
              "      <td>0</td>\n",
              "      <td>0</td>\n",
              "      <td>...</td>\n",
              "      <td>0</td>\n",
              "      <td>0</td>\n",
              "      <td>0</td>\n",
              "      <td>0</td>\n",
              "      <td>0</td>\n",
              "      <td>0</td>\n",
              "      <td>0</td>\n",
              "      <td>0</td>\n",
              "      <td>0</td>\n",
              "      <td>1</td>\n",
              "    </tr>\n",
              "    <tr>\n",
              "      <th>...</th>\n",
              "      <td>...</td>\n",
              "      <td>...</td>\n",
              "      <td>...</td>\n",
              "      <td>...</td>\n",
              "      <td>...</td>\n",
              "      <td>...</td>\n",
              "      <td>...</td>\n",
              "      <td>...</td>\n",
              "      <td>...</td>\n",
              "      <td>...</td>\n",
              "      <td>...</td>\n",
              "      <td>...</td>\n",
              "      <td>...</td>\n",
              "      <td>...</td>\n",
              "      <td>...</td>\n",
              "      <td>...</td>\n",
              "      <td>...</td>\n",
              "      <td>...</td>\n",
              "      <td>...</td>\n",
              "      <td>...</td>\n",
              "      <td>...</td>\n",
              "    </tr>\n",
              "    <tr>\n",
              "      <th>108565</th>\n",
              "      <td>25</td>\n",
              "      <td>0</td>\n",
              "      <td>0</td>\n",
              "      <td>0</td>\n",
              "      <td>0</td>\n",
              "      <td>0</td>\n",
              "      <td>0</td>\n",
              "      <td>0</td>\n",
              "      <td>0</td>\n",
              "      <td>0</td>\n",
              "      <td>...</td>\n",
              "      <td>0</td>\n",
              "      <td>0</td>\n",
              "      <td>0</td>\n",
              "      <td>0</td>\n",
              "      <td>0</td>\n",
              "      <td>0</td>\n",
              "      <td>0</td>\n",
              "      <td>0</td>\n",
              "      <td>0</td>\n",
              "      <td>1</td>\n",
              "    </tr>\n",
              "    <tr>\n",
              "      <th>73339</th>\n",
              "      <td>15</td>\n",
              "      <td>0</td>\n",
              "      <td>0</td>\n",
              "      <td>0</td>\n",
              "      <td>0</td>\n",
              "      <td>0</td>\n",
              "      <td>0</td>\n",
              "      <td>0</td>\n",
              "      <td>0</td>\n",
              "      <td>0</td>\n",
              "      <td>...</td>\n",
              "      <td>0</td>\n",
              "      <td>0</td>\n",
              "      <td>0</td>\n",
              "      <td>0</td>\n",
              "      <td>0</td>\n",
              "      <td>0</td>\n",
              "      <td>0</td>\n",
              "      <td>0</td>\n",
              "      <td>0</td>\n",
              "      <td>1</td>\n",
              "    </tr>\n",
              "    <tr>\n",
              "      <th>2128</th>\n",
              "      <td>30</td>\n",
              "      <td>0</td>\n",
              "      <td>0</td>\n",
              "      <td>0</td>\n",
              "      <td>0</td>\n",
              "      <td>0</td>\n",
              "      <td>0</td>\n",
              "      <td>0</td>\n",
              "      <td>0</td>\n",
              "      <td>0</td>\n",
              "      <td>...</td>\n",
              "      <td>0</td>\n",
              "      <td>0</td>\n",
              "      <td>0</td>\n",
              "      <td>0</td>\n",
              "      <td>0</td>\n",
              "      <td>0</td>\n",
              "      <td>0</td>\n",
              "      <td>0</td>\n",
              "      <td>0</td>\n",
              "      <td>1</td>\n",
              "    </tr>\n",
              "    <tr>\n",
              "      <th>73619</th>\n",
              "      <td>24</td>\n",
              "      <td>0</td>\n",
              "      <td>0</td>\n",
              "      <td>0</td>\n",
              "      <td>0</td>\n",
              "      <td>0</td>\n",
              "      <td>0</td>\n",
              "      <td>0</td>\n",
              "      <td>0</td>\n",
              "      <td>0</td>\n",
              "      <td>...</td>\n",
              "      <td>0</td>\n",
              "      <td>0</td>\n",
              "      <td>0</td>\n",
              "      <td>0</td>\n",
              "      <td>0</td>\n",
              "      <td>0</td>\n",
              "      <td>0</td>\n",
              "      <td>0</td>\n",
              "      <td>1</td>\n",
              "      <td>0</td>\n",
              "    </tr>\n",
              "    <tr>\n",
              "      <th>69391</th>\n",
              "      <td>25</td>\n",
              "      <td>0</td>\n",
              "      <td>0</td>\n",
              "      <td>0</td>\n",
              "      <td>0</td>\n",
              "      <td>0</td>\n",
              "      <td>0</td>\n",
              "      <td>0</td>\n",
              "      <td>0</td>\n",
              "      <td>0</td>\n",
              "      <td>...</td>\n",
              "      <td>0</td>\n",
              "      <td>0</td>\n",
              "      <td>0</td>\n",
              "      <td>0</td>\n",
              "      <td>0</td>\n",
              "      <td>0</td>\n",
              "      <td>0</td>\n",
              "      <td>0</td>\n",
              "      <td>0</td>\n",
              "      <td>1</td>\n",
              "    </tr>\n",
              "  </tbody>\n",
              "</table>\n",
              "<p>2000 rows × 212 columns</p>\n",
              "</div>\n",
              "      <button class=\"colab-df-convert\" onclick=\"convertToInteractive('df-96d63f26-d948-44ed-b2c3-7ad184bd85ec')\"\n",
              "              title=\"Convert this dataframe to an interactive table.\"\n",
              "              style=\"display:none;\">\n",
              "        \n",
              "  <svg xmlns=\"http://www.w3.org/2000/svg\" height=\"24px\"viewBox=\"0 0 24 24\"\n",
              "       width=\"24px\">\n",
              "    <path d=\"M0 0h24v24H0V0z\" fill=\"none\"/>\n",
              "    <path d=\"M18.56 5.44l.94 2.06.94-2.06 2.06-.94-2.06-.94-.94-2.06-.94 2.06-2.06.94zm-11 1L8.5 8.5l.94-2.06 2.06-.94-2.06-.94L8.5 2.5l-.94 2.06-2.06.94zm10 10l.94 2.06.94-2.06 2.06-.94-2.06-.94-.94-2.06-.94 2.06-2.06.94z\"/><path d=\"M17.41 7.96l-1.37-1.37c-.4-.4-.92-.59-1.43-.59-.52 0-1.04.2-1.43.59L10.3 9.45l-7.72 7.72c-.78.78-.78 2.05 0 2.83L4 21.41c.39.39.9.59 1.41.59.51 0 1.02-.2 1.41-.59l7.78-7.78 2.81-2.81c.8-.78.8-2.07 0-2.86zM5.41 20L4 18.59l7.72-7.72 1.47 1.35L5.41 20z\"/>\n",
              "  </svg>\n",
              "      </button>\n",
              "      \n",
              "  <style>\n",
              "    .colab-df-container {\n",
              "      display:flex;\n",
              "      flex-wrap:wrap;\n",
              "      gap: 12px;\n",
              "    }\n",
              "\n",
              "    .colab-df-convert {\n",
              "      background-color: #E8F0FE;\n",
              "      border: none;\n",
              "      border-radius: 50%;\n",
              "      cursor: pointer;\n",
              "      display: none;\n",
              "      fill: #1967D2;\n",
              "      height: 32px;\n",
              "      padding: 0 0 0 0;\n",
              "      width: 32px;\n",
              "    }\n",
              "\n",
              "    .colab-df-convert:hover {\n",
              "      background-color: #E2EBFA;\n",
              "      box-shadow: 0px 1px 2px rgba(60, 64, 67, 0.3), 0px 1px 3px 1px rgba(60, 64, 67, 0.15);\n",
              "      fill: #174EA6;\n",
              "    }\n",
              "\n",
              "    [theme=dark] .colab-df-convert {\n",
              "      background-color: #3B4455;\n",
              "      fill: #D2E3FC;\n",
              "    }\n",
              "\n",
              "    [theme=dark] .colab-df-convert:hover {\n",
              "      background-color: #434B5C;\n",
              "      box-shadow: 0px 1px 3px 1px rgba(0, 0, 0, 0.15);\n",
              "      filter: drop-shadow(0px 1px 2px rgba(0, 0, 0, 0.3));\n",
              "      fill: #FFFFFF;\n",
              "    }\n",
              "  </style>\n",
              "\n",
              "      <script>\n",
              "        const buttonEl =\n",
              "          document.querySelector('#df-96d63f26-d948-44ed-b2c3-7ad184bd85ec button.colab-df-convert');\n",
              "        buttonEl.style.display =\n",
              "          google.colab.kernel.accessAllowed ? 'block' : 'none';\n",
              "\n",
              "        async function convertToInteractive(key) {\n",
              "          const element = document.querySelector('#df-96d63f26-d948-44ed-b2c3-7ad184bd85ec');\n",
              "          const dataTable =\n",
              "            await google.colab.kernel.invokeFunction('convertToInteractive',\n",
              "                                                     [key], {});\n",
              "          if (!dataTable) return;\n",
              "\n",
              "          const docLinkHtml = 'Like what you see? Visit the ' +\n",
              "            '<a target=\"_blank\" href=https://colab.research.google.com/notebooks/data_table.ipynb>data table notebook</a>'\n",
              "            + ' to learn more about interactive tables.';\n",
              "          element.innerHTML = '';\n",
              "          dataTable['output_type'] = 'display_data';\n",
              "          await google.colab.output.renderOutput(dataTable, element);\n",
              "          const docLink = document.createElement('div');\n",
              "          docLink.innerHTML = docLinkHtml;\n",
              "          element.appendChild(docLink);\n",
              "        }\n",
              "      </script>\n",
              "    </div>\n",
              "  </div>\n",
              "  "
            ]
          },
          "metadata": {},
          "execution_count": 97
        }
      ]
    },
    {
      "cell_type": "code",
      "source": [
        "def age_difference_rescale(age1, age2):\n",
        "  age_diff = np.abs(age1 - age2)\n",
        "  if age_diff < 1:\n",
        "    return 1\n",
        "  elif age_diff >= 1 and age_diff <= 2:\n",
        "      return 0.8\n",
        "  elif age_diff > 2 and age_diff < 9:\n",
        "      return 0.5\n",
        "  elif age_diff >= 9 and age_diff <= 15:\n",
        "      return 0.2\n",
        "  else:\n",
        "      return 0\n",
        "\t  \n",
        "\n",
        "# Define a function to calculate cosine similarity between two users\n",
        "def calculate_similarity(user1, user2):\n",
        "    features1 = user1.values.reshape(1, -1)\n",
        "    features2 = user2.values.reshape(1, -1)\n",
        "    age1 = features1[0][0]\n",
        "    age2 = features2[0][0]\n",
        "    age_weight = age_difference_rescale(age1, age2)\n",
        "    features1[0][0] = 0\n",
        "    features2[0][0] = age_weight\n",
        "\n",
        "    return cosine_similarity(features1, features2)[0, 0]\n"
      ],
      "metadata": {
        "id": "C5-BFTsoduxb"
      },
      "execution_count": null,
      "outputs": []
    },
    {
      "cell_type": "code",
      "source": [
        "# Create a user-user similarity matrix\n",
        "num_users = len(samp_df)\n",
        "#similarity_matrix = np.zeros((num_users, num_users))\n",
        "user_id = np.array(user_id)\n",
        "users = np.array(users)\n",
        "\n",
        "#for i in range(num_users):\n",
        "#    for j in range(i, num_users):\n",
        "#        similarity = calculate_similarity(samp_df.iloc[i], samp_df.iloc[j])\n",
        "#        similarity_matrix[i, j] = similarity\n",
        "#        similarity_matrix[j, i] = similarity"
      ],
      "metadata": {
        "id": "JJeSfEajiYcc"
      },
      "execution_count": null,
      "outputs": []
    },
    {
      "cell_type": "code",
      "source": [
        "def demographic_filtering(u = 0, K_val = K, UAM1 = train_samp_UAM, artists = artists, users = users):\n",
        "\n",
        "  # get (normalized) playcount vector for current user u\n",
        "  pc_vec = UAM1.getrow(u)\n",
        "\n",
        "  # Identify the K most similar users to a target user\n",
        "  target_user_idx = u  # example target user index\n",
        "\n",
        "  target_user = samp_df.iloc[target_user_idx]\n",
        "  similarities = [calculate_similarity(target_user, samp_df.iloc[i]) for i in range(num_users)]\n",
        "  top_k_indices = np.argsort(similarities)[::-1][:K_val]  # indices of top K similar users\n",
        "  \n",
        "  top_k_users = users[np.array(top_k_indices)]\n",
        "\n",
        "  recommended_artists_idx = {}\n",
        "  for u_idx in top_k_indices:\n",
        "    neighbor_row = UAM1.getrow(u_idx).tocoo()\n",
        "    neighbor_data = neighbor_row.data\n",
        "    neighbor_col = neighbor_row.col\n",
        "    for i in range(len(neighbor_col)):\n",
        "      if neighbor_col[i] in recommended_artists_idx:\n",
        "        recommended_artists_idx[neighbor_col[i]] += neighbor_data[i]\n",
        "      else:\n",
        "        recommended_artists_idx[neighbor_col[i]] = neighbor_data[i]\n",
        "  #for i in list(recommended_artists_idx):\n",
        "  #  if i in pc_vec.indices:\n",
        "  #    recommended_artists_idx.pop(i)\n",
        "  recommendation = [(k, v) for k, v in recommended_artists_idx.items()]\n",
        "  recommendation = sorted(recommendation, key=lambda x: -x[1])\n",
        "  recommendation_artists = np.array([a for a,b in recommendation])\n",
        "\n",
        "  # Remove artists already known to seed user\n",
        "  #recommendation_artists = np.setdiff1d(recommendation_artists, pc_vec.indices)\n",
        "  #res = []\n",
        "  #for i in recommendation_artists:\n",
        "  #  if i not in pc_vec.indices:\n",
        "  #    res.append(i)\n",
        "  return (users[u], recommendation_artists)"
      ],
      "metadata": {
        "id": "fHA8n1f-dycY"
      },
      "execution_count": null,
      "outputs": []
    },
    {
      "cell_type": "code",
      "source": [
        "demographic_res = []\n",
        "for i in range(len(users_samp)):\n",
        "  demographic_res.append(demographic_filtering(u = i, K_val = K, UAM1 = train_samp_UAM, artists = artists, users = users))"
      ],
      "metadata": {
        "id": "CKB26S7bd2Js"
      },
      "execution_count": null,
      "outputs": []
    },
    {
      "cell_type": "markdown",
      "source": [
        "### Factorization Machine"
      ],
      "metadata": {
        "id": "LpilnqLeJcpC"
      }
    },
    {
      "cell_type": "code",
      "source": [
        "\n",
        "# interactions from sample UAM\n",
        "\n",
        "from scipy.sparse import csr_matrix, find\n",
        "interactions_UAM = find(train_samp_UAM)\n",
        "\n",
        "#user id mapping\n",
        "L1 = range(0,2000)\n",
        "L2 = users_samp\n",
        "mapping = dict(zip(L1, L2))\n",
        "interact_users = [mapping[i] for i in interactions_UAM[0]]\n",
        "\n",
        "interactions = np.array([interact_users, interactions_UAM[1], interactions_UAM[2]])\n",
        "# interactions is a 2d-array, each row is  <user_id, artist_id, listening count>\n",
        "interactions = interactions.T\n",
        "\n",
        "# Run Gasper's code to get user features\n",
        "# Read in data\n",
        "USER_FILE = 'LFM-1b_users.txt'\n",
        "\n",
        "user_id =  read_from_file(USER_FILE, 0)\n",
        "country =  read_from_file(USER_FILE, 1)\n",
        "age =  read_from_file(USER_FILE, 2)\n",
        "gender =  read_from_file(USER_FILE, 3)\n",
        "\n",
        "### deal with missing values by filling with either mode, or categorical values by ratio, or N/A ###\n",
        "age = [val if val != '-1' else '25' for val in age]\n",
        "country = [val if val != '' else 'N/A' for val in country]\n",
        "\n",
        "gender = [val if val != 'n' else '' for val in gender]\n",
        "gender = np.array(gender)\n",
        "# Count the number of 'f' and 'm' values in the array\n",
        "counts = np.unique(gender, return_counts=True)\n",
        "f_count = counts[1][np.where(counts[0] == 'f')[0][0]]\n",
        "m_count = counts[1][np.where(counts[0] == 'm')[0][0]]\n",
        "\n",
        "# Determine the number of missing values to fill in\n",
        "missing_count = len(gender) - f_count - m_count\n",
        "\n",
        "# Randomly assign 'f' or 'm' to each missing value with a 3:7 ratio\n",
        "fill_values = np.random.choice(['f', 'm'], size=missing_count, p=[0.283, 0.717])\n",
        "gender[gender == ''] = fill_values\n",
        "\n",
        "# Combine the arrays into a Pandas DataFrame\n",
        "demographic_data = {\n",
        "        'country': country,\n",
        "        'age': age,\n",
        "        'gender': gender}\n",
        "demographic_df = pd.DataFrame(demographic_data)\n",
        "demographic_df['age'] = demographic_df['age'].astype(int)\n",
        "#demographic_df['age'] = (demographic_df['age'] - demographic_df['age'].mean()) / demographic_df['age'].std()\n",
        "\n",
        "# Preprocess the data\n",
        "#demographic_df.replace('', pd.NA, inplace=True)\n",
        "#demographic_df = demographic_df.dropna()  # drop any rows with missing values\n",
        "demographic_df = pd.get_dummies(demographic_df, columns=[\"country\", \"gender\"])  # convert categorical variables to one-hot encoding\n",
        "samp_df = demographic_df.iloc[users_samp]\n",
        "\n",
        "\n",
        "# user features\n",
        "userfeat_samp = samp_df.copy()\n",
        "userfeat_samp['user_id'] = np.array(users_samp)\n",
        "\n",
        "userfeat_samp = userfeat_samp[['user_id'] +list(samp_df.columns[0:-1])]\n",
        "\n",
        "\n",
        "# standardize age\n",
        "from sklearn.preprocessing import StandardScaler\n",
        "scaler = StandardScaler()\n",
        "userfeat_samp['age'] = scaler.fit_transform(userfeat_samp[['age']])\n"
      ],
      "metadata": {
        "id": "htAPWeESNpRb"
      },
      "execution_count": null,
      "outputs": []
    },
    {
      "cell_type": "code",
      "source": [
        "from rankfm.rankfm import RankFM\n",
        "model = RankFM(factors=20, loss='warp', max_samples=100, beta=0.3, learning_schedule='invscaling')\n",
        "\n",
        "\n",
        "# run the model \n",
        "model.fit(interactions[:, 0:2], user_features=userfeat_samp.iloc[:, ], \n",
        "          epochs=40, verbose=True)"
      ],
      "metadata": {
        "id": "k2O-mBykJZs-"
      },
      "execution_count": null,
      "outputs": []
    },
    {
      "cell_type": "code",
      "source": [
        "L1 = range(0,2000)\n",
        "L2 = users_samp\n",
        "idtoidx_mapping = dict(zip(L2, L1))\n",
        "\n",
        "def FM_artistRecommend(u, FM_model, K, recommend_type = 'users', users_samp = users_samp, artists = artists, users = users,  \n",
        "                       idtoidx_mapping = idtoidx_mapping, UAM1 = train_samp_UAM, n_items = 51):\n",
        "  if recommend_type == 'users':\n",
        "    similar_users = FM_model.similar_users(user_id= users_samp[u], n_users= K)\n",
        "    top_k_indices = [idtoidx_mapping[id] for id in similar_users]\n",
        "\n",
        "    recommended_artists_idx = {}\n",
        "\n",
        "    for u_idx in top_k_indices:\n",
        "      neighbor_row = UAM1.getrow(u_idx).tocoo()\n",
        "      neighbor_data = neighbor_row.data\n",
        "      neighbor_col = neighbor_row.col\n",
        "\n",
        "      for i in range(len(neighbor_col)):\n",
        "        if neighbor_col[i] in recommended_artists_idx:\n",
        "          recommended_artists_idx[neighbor_col[i]] += neighbor_data[i]\n",
        "        else:\n",
        "          recommended_artists_idx[neighbor_col[i]] = neighbor_data[i]\n",
        "\n",
        "    recommendation = [(k, v) for k, v in recommended_artists_idx.items()]\n",
        "    recommendation = sorted(recommendation, key=lambda x: -x[1])\n",
        "    recommendation_artists = np.array([a for a,b in recommendation])\n",
        "\n",
        "  elif recommend_type == 'artists':\n",
        "    recommendation_artists = FM_model.recommend([users_samp[u]], n_items=n_items, filter_previous=False, cold_start='nan').iloc[0].values\n",
        "  return(users[u], recommendation_artists)"
      ],
      "metadata": {
        "id": "UcSpuXejJmJV"
      },
      "execution_count": null,
      "outputs": []
    },
    {
      "cell_type": "code",
      "source": [
        "def FM_artistRecommend_Artists( FM_model, K, users_samp = users_samp, artists = artists, users = users,  \n",
        "                        n_items = 51):\n",
        "  recommendation_artists = model.recommend(users_samp, n_items=51, filter_previous=False, cold_start='nan')\n",
        "  model_res = []\n",
        "  for i in range(len(users_samp)):\n",
        "    model_res.append((users_samp[i], recommendation_artists.iloc[i].values))\n",
        "  return model_res"
      ],
      "metadata": {
        "id": "M_W-czRkJotW"
      },
      "execution_count": null,
      "outputs": []
    },
    {
      "cell_type": "markdown",
      "source": [
        "### Hybrid Filtering"
      ],
      "metadata": {
        "id": "wig2zBeMP1cQ"
      }
    },
    {
      "cell_type": "code",
      "source": [
        "def collaborative_filtering_plus_with_score(u = 0, K = K, UAM1 = train_samp_UAM, artists = artists, users = users):\n",
        "\n",
        "  # get (normalized) playcount vector for current user u\n",
        "  pc_vec = UAM1.getrow(u)\n",
        "\n",
        "  # Compute similarities as dot product between playcount vector of user and all users via UAM (assuming that UAM is already normalized)\n",
        "  uU_sim = pc_vec.dot(UAM1.transpose()).tocoo()\n",
        "  uU_user_idx = uU_sim.col\n",
        "  uU_data = uU_sim.data\n",
        "\n",
        "  # Determine nearest neighbors to seed based on uUM\n",
        "\n",
        "  # Find the occurrence of the seed user in uU_data cols\n",
        "  # and set to 0 so that it is not selected as its own NN\n",
        "  occ_user_idx = (uU_user_idx == u)\n",
        "  uU_data[occ_user_idx] = 0\n",
        "\n",
        "  # Eliminate zeros\n",
        "  uU_sim.data = uU_data\n",
        "  uU_sim = uU_sim.tocsr()\n",
        "  uU_sim.eliminate_zeros()\n",
        "  uU_sim = uU_sim.tocoo()\n",
        "  uU_user_idx = uU_sim.col\n",
        "  uU_data = uU_sim.data\n",
        "\n",
        "  # Sort users according to the similarity (uU_data)\n",
        "  sort_index = np.argsort(uU_data)\n",
        "\n",
        "  # Select the K nearest neighbors among all users\n",
        "  # Note that uU_user_idx indeed provides the indices for users in UAM\n",
        "  recommended_user_idx = uU_user_idx[sort_index[-K:]]\n",
        "  # Get user_ids corresponding to nearest neighbors\n",
        "  recommended_user_ids = user_ids[recommended_user_idx]\n",
        "  # Get similarity score for nearest neighbors\n",
        "  recommended_user_scores = uU_data[sort_index[-K:]]\n",
        "\n",
        "  recommended_artists_idx = {}\n",
        "  for u_idx in recommended_user_idx:\n",
        "    neighbor_row = UAM1.getrow(u_idx).tocoo()\n",
        "    neighbor_data = neighbor_row.data\n",
        "    neighbor_col = neighbor_row.col\n",
        "    for i in range(len(neighbor_col)):\n",
        "      if neighbor_col[i] in recommended_artists_idx:\n",
        "        recommended_artists_idx[neighbor_col[i]] += neighbor_data[i]\n",
        "      else:\n",
        "        recommended_artists_idx[neighbor_col[i]] = neighbor_data[i]\n",
        "  #for i in list(recommended_artists_idx):\n",
        "  #  if i in pc_vec.indices:\n",
        "  #    recommended_artists_idx.pop(i)\n",
        "  recommendation = [(k, v) for k, v in recommended_artists_idx.items()]\n",
        "  recommendation = sorted(recommendation, key=lambda x: -x[1])\n",
        "\n",
        "  return (users[u], recommendation)"
      ],
      "metadata": {
        "id": "9f0ibfjkP8C_",
        "colab": {
          "base_uri": "https://localhost:8080/",
          "height": 235
        },
        "outputId": "1ed7d83e-d635-45f0-f1a7-c1939ce8c61e"
      },
      "execution_count": null,
      "outputs": [
        {
          "output_type": "error",
          "ename": "NameError",
          "evalue": "ignored",
          "traceback": [
            "\u001b[0;31m---------------------------------------------------------------------------\u001b[0m",
            "\u001b[0;31mNameError\u001b[0m                                 Traceback (most recent call last)",
            "\u001b[0;32m<ipython-input-1-6b11f0030eaa>\u001b[0m in \u001b[0;36m<module>\u001b[0;34m\u001b[0m\n\u001b[0;32m----> 1\u001b[0;31m \u001b[0;32mdef\u001b[0m \u001b[0mcollaborative_filtering_plus_with_score\u001b[0m\u001b[0;34m(\u001b[0m\u001b[0mu\u001b[0m \u001b[0;34m=\u001b[0m \u001b[0;36m0\u001b[0m\u001b[0;34m,\u001b[0m \u001b[0mK\u001b[0m \u001b[0;34m=\u001b[0m \u001b[0mK\u001b[0m\u001b[0;34m,\u001b[0m \u001b[0mUAM1\u001b[0m \u001b[0;34m=\u001b[0m \u001b[0mtrain_samp_UAM\u001b[0m\u001b[0;34m,\u001b[0m \u001b[0martists\u001b[0m \u001b[0;34m=\u001b[0m \u001b[0martists\u001b[0m\u001b[0;34m,\u001b[0m \u001b[0musers\u001b[0m \u001b[0;34m=\u001b[0m \u001b[0musers\u001b[0m\u001b[0;34m)\u001b[0m\u001b[0;34m:\u001b[0m\u001b[0;34m\u001b[0m\u001b[0;34m\u001b[0m\u001b[0m\n\u001b[0m\u001b[1;32m      2\u001b[0m \u001b[0;34m\u001b[0m\u001b[0m\n\u001b[1;32m      3\u001b[0m   \u001b[0;31m# get (normalized) playcount vector for current user u\u001b[0m\u001b[0;34m\u001b[0m\u001b[0;34m\u001b[0m\u001b[0;34m\u001b[0m\u001b[0m\n\u001b[1;32m      4\u001b[0m   \u001b[0mpc_vec\u001b[0m \u001b[0;34m=\u001b[0m \u001b[0mUAM1\u001b[0m\u001b[0;34m.\u001b[0m\u001b[0mgetrow\u001b[0m\u001b[0;34m(\u001b[0m\u001b[0mu\u001b[0m\u001b[0;34m)\u001b[0m\u001b[0;34m\u001b[0m\u001b[0;34m\u001b[0m\u001b[0m\n\u001b[1;32m      5\u001b[0m \u001b[0;34m\u001b[0m\u001b[0m\n",
            "\u001b[0;31mNameError\u001b[0m: name 'K' is not defined"
          ]
        }
      ]
    },
    {
      "cell_type": "code",
      "source": [
        "def demographic_filtering_with_score(u = 0, K = K, UAM1 = train_samp_UAM, artists = artists, users = users):\n",
        "\n",
        "  # get (normalized) playcount vector for current user u\n",
        "  pc_vec = UAM1.getrow(u)\n",
        "\n",
        "  # Identify the K most similar users to a target user\n",
        "  target_user_idx = u  # example target user index\n",
        "\n",
        "  target_user = samp_df.iloc[target_user_idx]\n",
        "  similarities = [calculate_similarity(target_user, samp_df.iloc[i]) for i in range(num_users)]\n",
        "  top_k_indices = np.argsort(similarities)[::-1][:K]  # indices of top K similar users\n",
        "  \n",
        "  top_k_users = users[np.array(top_k_indices)]\n",
        "\n",
        "  recommended_artists_idx = {}\n",
        "  for u_idx in top_k_indices:\n",
        "    neighbor_row = UAM1.getrow(u_idx).tocoo()\n",
        "    neighbor_data = neighbor_row.data\n",
        "    neighbor_col = neighbor_row.col\n",
        "    for i in range(len(neighbor_col)):\n",
        "      if neighbor_col[i] in recommended_artists_idx:\n",
        "        recommended_artists_idx[neighbor_col[i]] += neighbor_data[i]\n",
        "      else:\n",
        "        recommended_artists_idx[neighbor_col[i]] = neighbor_data[i]\n",
        "  #for i in list(recommended_artists_idx):\n",
        "  #  if i in pc_vec.indices:\n",
        "  #    recommended_artists_idx.pop(i)\n",
        "  recommendation = [(k, v) for k, v in recommended_artists_idx.items()]\n",
        "  recommendation = sorted(recommendation, key=lambda x: -x[1])\n",
        "\n",
        "  return (users[u], recommendation)"
      ],
      "metadata": {
        "id": "NXpvL5ZHSOUw"
      },
      "execution_count": null,
      "outputs": []
    },
    {
      "cell_type": "code",
      "source": [
        "# Define a method that combines the result from collaborative filtering and demographic filtering\n",
        "def recommend_top_artists(arr1, arr2):\n",
        "    \"\"\"\n",
        "    Recommends the top n artists from the fusion of two arrays of tuples, \n",
        "    where each tuple contains an artist and its ranking score. \n",
        "    \n",
        "    Args:\n",
        "    - arr1: the first array of tuples\n",
        "    - arr2: the second array of tuples\n",
        "    - n: the number of artists to recommend\n",
        "    \n",
        "    Returns:\n",
        "    - a list of tuples, each tuple containing an artist and its fused ranking score\n",
        "    \"\"\"\n",
        "    # Extract the artists and scores from the arrays\n",
        "    artists1, scores1 = zip(*arr1)\n",
        "    artists2, scores2 = zip(*arr2)\n",
        "    \n",
        "    # Compute the median of the scores for each recommender\n",
        "    median1 = np.median(scores1)\n",
        "    median2 = np.median(scores2)\n",
        "    \n",
        "    # Normalize the scores using the medians\n",
        "    norm_scores1 = [s / median1 for s in scores1]\n",
        "    norm_scores2 = [s / median2 for s in scores2]\n",
        "    \n",
        "    # Fuse the scores\n",
        "    fused_scores = []\n",
        "    for artist, score1 in arr1:\n",
        "        if artist in artists2:\n",
        "            idx = artists2.index(artist)\n",
        "            score2 = norm_scores2[idx]\n",
        "            fused_score = (score1 + score2) / 2.0\n",
        "        else:\n",
        "            fused_score = score1\n",
        "        fused_scores.append(fused_score)\n",
        "    \n",
        "    for artist, score2 in arr2:\n",
        "        if artist not in artists1:\n",
        "            fused_score = score2\n",
        "            fused_scores.append(fused_score)\n",
        "    \n",
        "    # Combine the artists and fused scores into tuples\n",
        "    fused_arr = list(zip(list(artists1) + list(set(artists2) - set(artists1)), fused_scores))\n",
        "    \n",
        "    # Sort the fused array by descending score\n",
        "    sorted_result = sorted(fused_arr, key=lambda x: x[1], reverse=True)\n",
        "    \n",
        "    return sorted_result\n"
      ],
      "metadata": {
        "id": "L3d0iofaSF4z"
      },
      "execution_count": null,
      "outputs": []
    },
    {
      "cell_type": "code",
      "source": [
        "def median_normalize(scores):\n",
        "    median = np.median(scores)\n",
        "    normalized_scores = scores / median\n",
        "    return normalized_scores\n",
        "\n",
        "\n",
        "def recommend_top_artists_three_arr(arr1, arr2, arr3):\n",
        "    \"\"\"\n",
        "    Recommends the top n artists from the fusion of three arrays of tuples, \n",
        "    where each tuple contains an artist and its ranking score. \n",
        "    \n",
        "    Args:\n",
        "    - arr1: the first array of tuples\n",
        "    - arr2: the second array of tuples\n",
        "    - arr3: the third array of tuples\n",
        "    - n: the number of artists to recommend\n",
        "    \n",
        "    Returns:\n",
        "    - a list of tuples, each tuple containing an artist and its fused ranking score\n",
        "    \"\"\"\n",
        "    merged_array = array1 + array2 + array3\n",
        "\n",
        "    new_scores = {}\n",
        "    for artist, score in merged_array:\n",
        "      if artist in new_scores:\n",
        "          new_scores[artist].append(score)\n",
        "      else:\n",
        "          new_scores[artist] = [score]\n",
        "    \n",
        "    final_scores = {}\n",
        "    for artist, scores in new_scores.items():\n",
        "      if len(scores) == 3:\n",
        "          final_scores[artist] = sum(scores) / 3\n",
        "      elif len(scores) == 2:\n",
        "          final_scores[artist] = sum(scores) / 2\n",
        "      else:\n",
        "          final_scores[artist] = scores[0]\n",
        "\n",
        "    top_artists = sorted(final_scores.items(), key=lambda x: x[1], reverse=True)\n",
        "    \n",
        "    return top_artists"
      ],
      "metadata": {
        "id": "ONrbOg4qSQa6"
      },
      "execution_count": null,
      "outputs": []
    },
    {
      "cell_type": "code",
      "source": [
        "# Define the centralized method of hybrid filtering\n",
        "def hybrid_filtering(u = 0, K_val = K, UAM1 = train_samp_UAM, artists = artists, users = users):\n",
        "  collaborative_filtering_artists_result = collaborative_filtering_plus_with_score(u = u, K = K_val, UAM1 = UAM1, artists = artists, users = users)[1]\n",
        "  demographic_filtering_artists_result = demographic_filtering_with_score(u = u, K = K_val, UAM1 = UAM1, artists = artists, users = users)[1]\n",
        "  # factorization machine result ... (to be added)\n",
        "  #\n",
        "  hybrid_filtering_artists_result = recommend_top_artists(collaborative_filtering_artists_result, demographic_filtering_artists_result)\n",
        "  recommendation_artists = np.array([a for a,b in hybrid_filtering_artists_result])\n",
        "\n",
        "  return (users[u], recommendation_artists)"
      ],
      "metadata": {
        "id": "w0Q2m5CaSYmj"
      },
      "execution_count": null,
      "outputs": []
    },
    {
      "cell_type": "code",
      "source": [
        "hybrid_res = []\n",
        "for i in range(len(users_samp)):\n",
        "  hybrid_res.append(hybrid_filtering(u = i, K_val = K, UAM1 = train_samp_UAM, artists = artists, users = users))"
      ],
      "metadata": {
        "id": "3ZgiXovxUgzz"
      },
      "execution_count": null,
      "outputs": []
    },
    {
      "cell_type": "code",
      "source": [
        "len(hybrid_filtering(u = 0, K_val = K, UAM1 = train_samp_UAM, artists = artists, users = users)[1])"
      ],
      "metadata": {
        "colab": {
          "base_uri": "https://localhost:8080/"
        },
        "id": "9WxZ11_rW9JW",
        "outputId": "fd5cd503-efde-4fb7-b47b-cb2b47ab2d46"
      },
      "execution_count": null,
      "outputs": [
        {
          "output_type": "execute_result",
          "data": {
            "text/plain": [
              "35102"
            ]
          },
          "metadata": {},
          "execution_count": 88
        }
      ]
    },
    {
      "cell_type": "markdown",
      "source": [
        "### Evaluation"
      ],
      "metadata": {
        "id": "5uVrGmKgZnHX"
      }
    },
    {
      "cell_type": "markdown",
      "source": [
        "Normalize the train matrix to facilitate running"
      ],
      "metadata": {
        "id": "hXlmNei2CFDc"
      }
    },
    {
      "cell_type": "code",
      "source": [
        "from sklearn.preprocessing import normalize\n",
        "train_samp_UAM_normalized = normalize(train_samp_UAM, norm='l1', axis=1)"
      ],
      "metadata": {
        "id": "n0uW_4R1cUjx"
      },
      "execution_count": null,
      "outputs": []
    },
    {
      "cell_type": "markdown",
      "source": [
        "Sort the actual results and set up K list, as well as number of recommendations to make"
      ],
      "metadata": {
        "id": "i08IfgidCLN5"
      }
    },
    {
      "cell_type": "code",
      "source": [
        "#collaborative_res = sorted(collaborative_res, key=lambda x: int(x[0]))\n",
        "actual = sorted(cols_to_zeros, key=lambda x: int(x[0]))\n",
        "counts = [b for a,b in actual]\n",
        "K_list = np.arange(5,50,10)\n",
        "\n",
        "len_counts = [len(i) for i in counts]\n",
        "n_recommend = int(np.mean(len_counts))"
      ],
      "metadata": {
        "id": "i6BDY58BzHFi"
      },
      "execution_count": null,
      "outputs": []
    },
    {
      "cell_type": "markdown",
      "source": [
        "Evaluation function"
      ],
      "metadata": {
        "id": "3mfdIM0sCRof"
      }
    },
    {
      "cell_type": "code",
      "execution_count": null,
      "metadata": {
        "id": "Coiq8ALbXwsL"
      },
      "outputs": [],
      "source": [
        "def evaluation(fcst, actual, n_recommend = n_recommend):\n",
        "  \"\"\"\n",
        "  Input: \n",
        "  fcst: a list of tuples, first item is user id, second item is an array of recommended artists\n",
        "  that are not listened to by the users\n",
        "\n",
        "  actual: a list of tuples: first item is user id, second item is an array of artists that listened to by\n",
        "  the users but are masked to be forecasted\n",
        "\n",
        "  Output: a tuple of precision, recall, f1-score\n",
        "\n",
        "  \"\"\"\n",
        "  precisions = []\n",
        "  recalls = []\n",
        "  for i in range(len(fcst)):\n",
        "    fcst_u = fcst[i]\n",
        "    actual_u = actual[i]\n",
        "\n",
        "    recommend = fcst_u[1]\n",
        "    listened = actual_u[1]\n",
        "\n",
        "    # recommend the same number as imputed\n",
        "    if len(recommend) > n_recommend:\n",
        "      recommend = recommend[:n_recommend]\n",
        "\n",
        "    recommend = set(recommend)\n",
        "    listened = set(listened)\n",
        "\n",
        "    # precision: the ratio tp / (tp + fp) where tp is the number of true positives and \n",
        "    # fp the number of false positives\n",
        "    # true positive\n",
        "    tp = listened.intersection(recommend)\n",
        "    precision = len(tp)/ len(recommend)\n",
        "\n",
        "    # recall:  recall is the ratio tp / (tp + fn) where tp is the number of true positives \n",
        "    # and fn the number of false negatives\n",
        "    recall = len(tp)/ len(listened)\n",
        "\n",
        "    precisions.append(precision)\n",
        "    recalls.append(recall)\n",
        "\n",
        "  precision_score = np.mean(precisions)\n",
        "  recall_score = np.mean(recalls)\n",
        "  f1_score = 2*(precision_score * recall_score)/(precision_score + recall_score)\n",
        "\n",
        "  return (np.mean(precisions), np.mean(recalls), f1_score)\n"
      ]
    },
    {
      "cell_type": "markdown",
      "source": [
        "The following functions provide a way to assess a model's performance of different K. (FYI, Do not use since not all models are finished)"
      ],
      "metadata": {
        "id": "gHNo3moaCVLG"
      }
    },
    {
      "cell_type": "code",
      "source": [
        "def run_model(model_run = demographic_filtering, K_val = K):\n",
        "  model_res = []\n",
        "  for i in range(len(users_samp)):\n",
        "    model_res.append(model_run(u = i, K_val = K_val, UAM1 = train_samp_UAM_normalized, artists = artists, users = users))\n",
        "  return model_res\n",
        "\n",
        "def generate_model_eval_one(model = demographic_filtering, K_val1 = K):\n",
        "  prediction = run_model(model_run = model, K_val = K_val1)\n",
        "  prediction = sorted(prediction, key=lambda x: int(x[0]))\n",
        "  print('length prediction', len(prediction))\n",
        "  return evaluation(prediction, actual)\n",
        "\n",
        "def generate_model_eval(K_items = K_list, model_use = demographic_filtering):\n",
        "  res = []\n",
        "  for i in range(len(K_items)):\n",
        "    eval = generate_model_eval_one(model = model_use, K_val1 = K_items[i])\n",
        "    print('k_item[i]', K_items[i])\n",
        "    tup_eval = (K_items[i], eval)\n",
        "    res.append(tup_eval)\n",
        "  return res\n",
        "\n",
        "# we might use this after all models are defined\n",
        "array1 = generate_model_eval(K_items = K_list, model_use = collaborative_filtering)\n",
        "array2 = generate_model_eval(K_items = K_list, model_use = collaborative_filtering_plus)\n",
        "array3 = generate_model_eval(K_items = K_list, model_use = demographic_filtering)\n"
      ],
      "metadata": {
        "id": "K8aoq8MIbMUI"
      },
      "execution_count": null,
      "outputs": []
    },
    {
      "cell_type": "markdown",
      "source": [
        "Collaborative results （USE THIS）"
      ],
      "metadata": {
        "id": "DGi97ykkITCg"
      }
    },
    {
      "cell_type": "code",
      "source": [
        "res_col = []\n",
        "for j in range(len(K_list)):\n",
        "  model_res = []\n",
        "  for i in range(len(users_samp)):\n",
        "    model_res.append(collaborative_filtering(u = i, K_val = K_list[j], \n",
        "                                           UAM1 = train_samp_UAM_normalized, \n",
        "                                           artists = artists, users = users))\n",
        "  prediction = sorted(model_res, key=lambda x: int(x[0]))\n",
        "  eval = evaluation(prediction, actual)\n",
        "  tup_eval = (K_list[j], eval)\n",
        "  res_col.append(tup_eval)\n",
        "res_col"
      ],
      "metadata": {
        "colab": {
          "base_uri": "https://localhost:8080/"
        },
        "id": "0Ak1A5kIINxW",
        "outputId": "283b93ee-9414-4ec1-fa15-cd47bfac52e8"
      },
      "execution_count": null,
      "outputs": [
        {
          "data": {
            "text/plain": [
              "[(5, (0.022769230769230767, 0.035794655093852136, 0.027833424989672874)),\n",
              " (15, (0.017596153846153848, 0.024759650603175497, 0.020572132998285683)),\n",
              " (25, (0.014865384615384617, 0.020650340400465282, 0.01728672312641995)),\n",
              " (35, (0.013480769230769232, 0.018506136217332877, 0.015598692540221797)),\n",
              " (45, (0.01275, 0.017519376964838292, 0.014758946413807135))]"
            ]
          },
          "execution_count": 289,
          "metadata": {},
          "output_type": "execute_result"
        }
      ]
    },
    {
      "cell_type": "markdown",
      "source": [
        "Collaborative plus results （USE THIS）"
      ],
      "metadata": {
        "id": "Lv4AY_r-PECO"
      }
    },
    {
      "cell_type": "code",
      "source": [
        "res_coll_plus = []\n",
        "for j in range(len(K_list)):\n",
        "  model_res = []\n",
        "  for i in range(len(users_samp)):\n",
        "    model_res.append(collaborative_filtering_plus(u = i, K_val = K_list[j], \n",
        "                                           UAM1 = train_samp_UAM_normalized, \n",
        "                                           artists = artists, users = users))\n",
        "  prediction = sorted(model_res, key=lambda x: int(x[0]))\n",
        "  eval = evaluation(prediction, actual)\n",
        "  tup_eval = (K_list[j], eval)\n",
        "  res_coll_plus.append(tup_eval)\n",
        "res_coll_plus"
      ],
      "metadata": {
        "id": "QdPxCDgWOR6N",
        "colab": {
          "base_uri": "https://localhost:8080/"
        },
        "outputId": "da994175-6f0d-4d9f-f85f-b392dfe0c979"
      },
      "execution_count": null,
      "outputs": [
        {
          "data": {
            "text/plain": [
              "[(5, (0.025730769230769227, 0.04774656204583995, 0.03344040258999477)),\n",
              " (15, (0.028855769230769233, 0.052571443875050736, 0.03726001160362382)),\n",
              " (25, (0.030682692307692307, 0.05636744680053059, 0.03973583601516665)),\n",
              " (35, (0.031634615384615386, 0.05823859451451577, 0.04099899269370791)),\n",
              " (45, (0.03303846153846154, 0.06039806868079671, 0.042712614957454306))]"
            ]
          },
          "execution_count": 290,
          "metadata": {},
          "output_type": "execute_result"
        }
      ]
    },
    {
      "cell_type": "code",
      "source": [
        "## FM recommend with top K Users\n",
        "\n",
        "res_coll_plus = []\n",
        "for j in range(len(K_list)):\n",
        "  print('Running on {}th K'.format(j))\n",
        "  model_res = []\n",
        "  for i in range(len(users_samp)):\n",
        "    if i%200 == 0:\n",
        "      print(i)\n",
        "\n",
        "    model_res.append(FM_artistRecommend(i, FM_model = model, K = K_list[j], users_samp = users_samp, artists = artists, users = users,  \n",
        "                                        idtoidx_mapping = idtoidx_mapping, UAM1 = train_samp_UAM_normalized))\n",
        "    \n",
        "  prediction = sorted(model_res, key=lambda x: int(x[0]))\n",
        "  eval = evaluation(prediction, actual)\n",
        "  tup_eval = (K_list[j], eval)\n",
        "  res_coll_plus.append(tup_eval)\n",
        "res_coll_plus"
      ],
      "metadata": {
        "id": "w4vG_ToIAMoR"
      },
      "execution_count": null,
      "outputs": []
    },
    {
      "cell_type": "code",
      "source": [
        "## FM recommend directly with Artists\n",
        "N_recomList = [30,  50, 70, 90,100]\n",
        "res_coll_plus = []\n",
        "for n in range(len(N_recomList)):\n",
        "  print('Running on {}th N recommend'.format(n))\n",
        "\n",
        "  model_res = FM_artistRecommend_Artists( FM_model = model, K = 25, users_samp = users_samp, artists = artists, users = users,  \n",
        "                        n_items = N_recomList[n])\n",
        "    \n",
        "  prediction = sorted(model_res, key=lambda x: int(x[0]))\n",
        "  eval = evaluation(prediction, actual, N_recomList[n])\n",
        "  tup_eval = (N_recomList[n], eval)\n",
        "  res_coll_plus.append(tup_eval)\n",
        "res_coll_plus"
      ],
      "metadata": {
        "id": "X_MgPYacJ-Fl"
      },
      "execution_count": null,
      "outputs": []
    },
    {
      "cell_type": "markdown",
      "source": [
        "Demographic filtering results （USE THIS）"
      ],
      "metadata": {
        "id": "l1jBZq8gN-Gz"
      }
    },
    {
      "cell_type": "code",
      "source": [
        "res_demo = []\n",
        "for j in range(len(K_list)):\n",
        "  model_res = []\n",
        "  for i in range(len(users_samp)):\n",
        "    model_res.append(demographic_filtering(u = i, K_val = K_list[j], \n",
        "                                           UAM1 = train_samp_UAM_normalized, \n",
        "                                           artists = artists, users = users))\n",
        "  prediction = sorted(model_res, key=lambda x: int(x[0]))\n",
        "  eval = evaluation(prediction, actual)\n",
        "  tup_eval = (K_list[j], eval)\n",
        "  res_demo.append(tup_eval)\n",
        "res_demo"
      ],
      "metadata": {
        "id": "62njVQNgN52m"
      },
      "execution_count": null,
      "outputs": []
    },
    {
      "cell_type": "markdown",
      "source": [
        "Hybrid filtering results (USE THIS)\n"
      ],
      "metadata": {
        "id": "swWTfd82N_0M"
      }
    },
    {
      "cell_type": "code",
      "source": [
        "res_hy = []\n",
        "for j in range(len(K_list)):\n",
        "  model_res = []\n",
        "  for i in range(len(users_samp)):\n",
        "    model_res.append(hybrid_filtering(u = i, K_val = K_list[j], \n",
        "                                           UAM1 = train_samp_UAM_normalized, \n",
        "                                           artists = artists, users = users))\n",
        "  print(model_res)\n",
        "  prediction = sorted(model_res, key=lambda x: int(x[0]))\n",
        "  eval = evaluation(prediction, actual)\n",
        "  tup_eval = (K_list[j], eval)\n",
        "  res_hy.append(tup_eval)\n",
        "res_hy"
      ],
      "metadata": {
        "id": "ICYLqTtGOCfn"
      },
      "execution_count": null,
      "outputs": []
    },
    {
      "cell_type": "markdown",
      "source": [
        "One single example"
      ],
      "metadata": {
        "id": "Ql11QpIpJVO0"
      }
    },
    {
      "cell_type": "code",
      "source": [
        "model_res = []\n",
        "for i in range(len(users_samp)):\n",
        "  model_res.append(collaborative_filtering_plus(u = i, K_val = 25, \n",
        "                                          UAM1 = train_samp_UAM_normalized, \n",
        "                                          artists = artists, users = users))\n",
        "prediction = sorted(model_res, key=lambda x: int(x[0]))\n",
        "evaluation(prediction, actual)"
      ],
      "metadata": {
        "colab": {
          "base_uri": "https://localhost:8080/"
        },
        "id": "pTxY8epofd7q",
        "outputId": "c63473f4-c982-4608-83db-b4afb8d12e8e"
      },
      "execution_count": null,
      "outputs": [
        {
          "output_type": "execute_result",
          "data": {
            "text/plain": [
              "(0.028711538461538462, 0.05128292103132937, 0.03681283851270551)"
            ]
          },
          "metadata": {},
          "execution_count": 253
        }
      ]
    },
    {
      "cell_type": "markdown",
      "source": [
        "Result holder in case we lose it"
      ],
      "metadata": {
        "id": "8C9kuacrUWGA"
      }
    },
    {
      "cell_type": "code",
      "source": [
        "res_coll = [(5, (0.022769230769230767, 0.035794655093852136, 0.027833424989672874)),\n",
        " (15, (0.017596153846153848, 0.024759650603175497, 0.020572132998285683)),\n",
        " (25, (0.014865384615384617, 0.020650340400465282, 0.01728672312641995)),\n",
        " (35, (0.013480769230769232, 0.018506136217332877, 0.015598692540221797)),\n",
        " (45, (0.01275, 0.017519376964838292, 0.014758946413807135))]"
      ],
      "metadata": {
        "id": "77dl7OEHCyFU"
      },
      "execution_count": null,
      "outputs": []
    },
    {
      "cell_type": "code",
      "source": [
        "res_coll_plus = [(5, (0.025730769230769227, 0.04774656204583995, 0.03344040258999477)),\n",
        " (15, (0.028855769230769233, 0.052571443875050736, 0.03726001160362382)),\n",
        " (25, (0.030682692307692307, 0.05636744680053059, 0.03973583601516665)),\n",
        " (35, (0.031634615384615386, 0.05823859451451577, 0.04099899269370791)),\n",
        " (45, (0.03303846153846154, 0.06039806868079671, 0.042712614957454306))]"
      ],
      "metadata": {
        "id": "EQLewRbTCyHi"
      },
      "execution_count": null,
      "outputs": []
    },
    {
      "cell_type": "code",
      "source": [
        "res_demo = [(5, (0.0075392156862745105, 0.010249475450301457, 0.008687879900518869)),\n",
        " (15, (0.010833333333333332, 0.014730482401364443, 0.012484851844568975)),\n",
        " (25, (0.012009803921568626, 0.016336124276747806, 0.013842810016979503)),\n",
        " (35, (0.012941176470588234, 0.01779607291523331, 0.014985213360420172)),\n",
        " (45, (0.014156862745098038, 0.019741938628345036, 0.01648930960152369))]"
      ],
      "metadata": {
        "id": "3zXcIkCCCyJg"
      },
      "execution_count": null,
      "outputs": []
    },
    {
      "cell_type": "code",
      "source": [
        "res_hy = [(5, (0.02128, 0.030943168878474345, 0.025217567140217965)),\n",
        " (15, (0.018009999999999998, 0.025066744746259546, 0.02096036158439456)),\n",
        " (25, (0.01743, 0.022714606995633272, 0.019724472578693007)),\n",
        " (35, (0.0167, 0.021838104839147575, 0.01892653270501774)),\n",
        " (45, (0.01623, 0.021406326085660773, 0.018462199077536486))]"
      ],
      "metadata": {
        "id": "rGD6pOiOZyr9"
      },
      "execution_count": null,
      "outputs": []
    },
    {
      "cell_type": "code",
      "source": [
        "res_fm = [(5, (0.03357843137254902, 0.06300666433840792, 0.04380934633707577)),\n",
        " (15, (0.03693137254901961, 0.06748147474872086, 0.0477371041706321)),\n",
        " (25, (0.03857843137254902, 0.06905198365187953, 0.04950119744215035)),\n",
        " (35, (0.04020588235294118, 0.07288145269972297, 0.05182301115490787)),\n",
        " (45, (0.04015686274509804, 0.07004206223226386, 0.051047130995559895))]"
      ],
      "metadata": {
        "id": "-zC9PNVo_8sv"
      },
      "execution_count": null,
      "outputs": []
    },
    {
      "cell_type": "code",
      "source": [
        "res_fm_direct_fcst = [(0.048519607843137254, 0.09787653773220327, 0.06487781777514852)]"
      ],
      "metadata": {
        "id": "cLdIZkVqANyH"
      },
      "execution_count": null,
      "outputs": []
    },
    {
      "cell_type": "markdown",
      "source": [
        "Saving results as data frame and plotting the results"
      ],
      "metadata": {
        "id": "beZU6121Cmvc"
      }
    },
    {
      "cell_type": "code",
      "source": [
        "# FM visualization with different num artists\n",
        "# Define the five arrays\n",
        "array1 = [(30, (0.05084999999999999, 0.060032477016092906, 0.055061025662788504))]\n",
        "array2 = [(50, (0.04796000000000001, 0.09060172622691715, 0.06271946674115313))]\n",
        "array3 = [ (70, (0.04779411764705883, 0.0916569090171938, 0.06282723329503434))]\n",
        "array4 = [(90, (0.04779411764705883, 0.0916569090171938, 0.06282723329503434))]\n",
        "array5 = [(100, (0.04779411764705883, 0.0916569090171938, 0.06282723329503434))]\n",
        "\n",
        "# Initialize a list of dictionaries to store the results\n",
        "results = []\n",
        "model_names = ['Artist Num=30', 'Artist Num=50', 'Artist Num=70','Artist Num=90', 'Artist Num=100']\n",
        "\n",
        "# Loop over the arrays and extract the model name\n",
        "for i, arr in enumerate([array1, array2, array3, array4, array5]):\n",
        "    model_name = model_names[i]\n",
        "    \n",
        "    # Loop over the tuples in the array and extract the K value and evaluation metrics\n",
        "    for tup in arr:\n",
        "        k = tup[0]\n",
        "        prec, rec, f1 = tup[1]\n",
        "        \n",
        "        # Append the results to the list of dictionaries\n",
        "        results.append({'n_recommend': k, 'Model': model_name, 'Precision': prec, 'Recall': rec, 'F1-Score': f1})\n",
        "\n",
        "# Convert the list of dictionaries to a pandas dataframe\n",
        "df = pd.DataFrame(results)\n",
        "\n",
        "# Create three subplots for each evaluation metric\n",
        "fig, axs = plt.subplots(1, 2, figsize=(12, 4))\n",
        "\n",
        "# Create a list of colors for the lines\n",
        "colors = ['blue', 'red', 'green', 'orange', 'purple']\n",
        "\n",
        "\n",
        "# Create a list of colors for the lines\n",
        "colors = ['blue', 'red', 'green', 'orange', 'purple']\n",
        "\n",
        "# Loop through each evaluation metric and plot the lines for each model\n",
        "for i, metric in enumerate(['Precision', 'Recall', 'F1-Score']):\n",
        "    # Filter the data to only include the metric of interest\n",
        "    metric_df = df[['n_recommend',  metric]].set_index('n_recommend')\n",
        "    metric_df.plot(ax =axs[0], color=colors[i], marker ='o')\n",
        "    # Set the title and labels for the subplot\n",
        "    axs[0].set_title('FM Different Num of Recommended Artists')\n",
        "\n",
        "\n",
        "# Display the plots\n",
        "plt.show()"
      ],
      "metadata": {
        "id": "YVeoEuLSKDrh"
      },
      "execution_count": null,
      "outputs": []
    },
    {
      "cell_type": "code",
      "source": [
        "# Example\n",
        "# Initialize a list of dictionaries to store the results\n",
        "results = []\n",
        "model_names = ['collaborative', 'collaborative_plus', 'demographic','factorization', 'hybrid']\n",
        "\n",
        "# Loop over the arrays and extract the model name\n",
        "#for i, arr in enumerate([array1, array2, array3, array4, array5]):\n",
        "for i, arr in enumerate([res_coll, res_coll_plus, res_demo, res_fm, res_hy]):\n",
        "    model_name = model_names[i]\n",
        "    \n",
        "    # Loop over the tuples in the array and extract the K value and evaluation metrics\n",
        "    for tup in arr:\n",
        "        k = tup[0]\n",
        "        prec, rec, f1 = tup[1]\n",
        "        \n",
        "        # Append the results to the list of dictionaries\n",
        "        results.append({'K': k, 'Model': model_name, 'Precision': prec, 'Recall': rec, 'F1-Score': f1})\n",
        "\n",
        "# Convert the list of dictionaries to a pandas dataframe\n",
        "df = pd.DataFrame(results)\n"
      ],
      "metadata": {
        "id": "6mFp9UsMooYa"
      },
      "execution_count": null,
      "outputs": []
    },
    {
      "cell_type": "code",
      "source": [
        "import matplotlib.pyplot as plt\n",
        "\n",
        "# Create three subplots for each evaluation metric\n",
        "fig, axs = plt.subplots(1, 3, figsize=(16, 4))\n",
        "\n",
        "# Create a list of colors for the lines\n",
        "colors = ['blue', 'red', 'green', 'orange', 'purple']\n",
        "\n",
        "# Loop through each evaluation metric and plot the lines for each model\n",
        "for i, metric in enumerate(['Precision', 'Recall', 'F1-Score']):\n",
        "    # Filter the data to only include the metric of interest\n",
        "    metric_df = df[['K', 'Model', metric]]\n",
        "    # Reshape the data so that each model has its own column\n",
        "    metric_df = metric_df.pivot(index='K', columns='Model', values=metric)\n",
        "    # Plot the lines for each model\n",
        "    for j, model in enumerate(metric_df.columns):\n",
        "        metric_df[model].plot(ax=axs[i], color=colors[j])\n",
        "    # Set the title and labels for the subplot\n",
        "    axs[i].set_title(metric)\n",
        "    axs[i].set_xlabel('K')\n",
        "    axs[i].set_ylabel(metric)\n",
        "    axs[i].legend()\n",
        "\n",
        "# Display the plots\n",
        "plt.show()"
      ],
      "metadata": {
        "id": "eaq7f90Cqaz5",
        "colab": {
          "base_uri": "https://localhost:8080/",
          "height": 295
        },
        "outputId": "f2765323-1744-4de0-e534-3509562e27e2"
      },
      "execution_count": null,
      "outputs": [
        {
          "output_type": "display_data",
          "data": {
            "text/plain": [
              "<Figure size 1152x288 with 3 Axes>"
            ],
            "image/png": "[encoded data removed]"
          },
          "metadata": {
            "needs_background": "light"
          }
        }
      ]
    },
    {
      "cell_type": "code",
      "source": [
        "set(collaborative_res[1][1]).intersection(set(cols_to_zeros[1][1]))"
      ],
      "metadata": {
        "id": "rFlJ74cI2X_f"
      },
      "execution_count": null,
      "outputs": []
    },
    {
      "cell_type": "code",
      "source": [
        "evaluation(collaborative_plus_res, cols_to_zeros)"
      ],
      "metadata": {
        "id": "6HzV65lCir0o"
      },
      "execution_count": null,
      "outputs": []
    },
    {
      "cell_type": "code",
      "source": [
        "type(collaborative_plus_res[1][1])"
      ],
      "metadata": {
        "colab": {
          "base_uri": "https://localhost:8080/"
        },
        "id": "nok7HAPWkoR4",
        "outputId": "94db8bfe-a641-4398-ed19-dadd1c7c5981"
      },
      "execution_count": null,
      "outputs": [
        {
          "output_type": "execute_result",
          "data": {
            "text/plain": [
              "numpy.ndarray"
            ]
          },
          "metadata": {},
          "execution_count": 124
        }
      ]
    },
    {
      "cell_type": "code",
      "source": [
        "type(cols_to_zeros[1][1])"
      ],
      "metadata": {
        "colab": {
          "base_uri": "https://localhost:8080/"
        },
        "id": "ktD7OrAEkoWi",
        "outputId": "97cf4fb5-87cd-48a6-f2f3-e1fba7b09824"
      },
      "execution_count": null,
      "outputs": [
        {
          "output_type": "execute_result",
          "data": {
            "text/plain": [
              "list"
            ]
          },
          "metadata": {},
          "execution_count": 125
        }
      ]
    },
    {
      "cell_type": "markdown",
      "metadata": {
        "id": "0wuSq2RCUSrr"
      },
      "source": [
        "### Schedl's Code & Implementing a Simple Recommendation System"
      ]
    },
    {
      "cell_type": "code",
      "execution_count": null,
      "metadata": {
        "colab": {
          "base_uri": "https://localhost:8080/"
        },
        "id": "0zdDa1kDqgbj",
        "outputId": "d1865960-a64a-43c5-d48e-0c77cd29b0d9"
      },
      "outputs": [
        {
          "name": "stdout",
          "output_type": "stream",
          "text": [
            "Users:  120175\n",
            "Artists:  585095\n"
          ]
        }
      ],
      "source": [
        "# Computes several statistics and provides some tools for the LFM-1b dataset of Last.fm listening histories.\n",
        "# Author: Markus Schedl\n",
        "\n",
        "import numpy as np\n",
        "import h5py\n",
        "from scipy import sparse\n",
        "\n",
        "UAM_MATLAB_FILE = 'LFM-1b_LEs.mat'                  # Matlab .mat file where the listening events are stored\n",
        "STATISTICS_OUTPUT_FILE = 'LFM-1b_stats_users.txt'         # output file for statistics\n",
        "\n",
        "# Read the user-artist-matrix and corresponding artist and user indices from Matlab file\n",
        "def read_UAM(m_file):\n",
        "    mf = h5py.File(m_file, 'r')\n",
        "    user_ids = np.array(mf.get('idx_users')).astype(np.int64)\n",
        "    artist_ids = np.array(mf.get('idx_artists')).astype(np.int64)\n",
        "    # Load UAM\n",
        "    UAM = sparse.csr_matrix((mf['/LEs/'][\"data\"],\n",
        "                             mf['/LEs/'][\"ir\"],\n",
        "                             mf['/LEs/'][\"jc\"])).transpose()    #.tocoo().transpose()\n",
        "    # user and artist indices to access UAM\n",
        "    UAM_user_idx = UAM.indices #UAM.row -> for COO matrix\n",
        "    UAM_artist_idx = UAM.indptr #UAM.col -> for COO matrix\n",
        "    return UAM, UAM_user_idx, UAM_artist_idx, user_ids, artist_ids\n",
        "\n",
        "# Read UAM\n",
        "UAM, UAM_user_idx, UAM_artist_idx, user_ids, artist_ids = read_UAM(UAM_MATLAB_FILE)\n",
        "print('Users: ', len(user_ids))\n",
        "print('Artists: ', len(artist_ids))\n",
        "\n",
        "# Compute some basic statistics\n",
        "pc_sum = np.zeros((len(user_ids)), dtype=np.int32)              # to hold sum of playcounts, for all users\n",
        "pc_uniq_artists = np.zeros((len(user_ids)), dtype=np.int32)     # to hold number of unique artists listened to, for all users\n",
        "pc_mean = np.zeros((len(user_ids)), dtype=np.float32)            # to hold mean playcount per artist, for all users\n",
        "pc_median = np.zeros((len(user_ids)), dtype=np.float32)          # to hold median of playcount per artist, for all users\n",
        "pc_std = np.zeros((len(user_ids)), dtype=np.float32)             # to hold standard deviation of playcount per artist, for all users\n",
        "#for i in range(0, len(user_ids)):\n",
        "#    pc_i = UAM.getrow(i).toarray()                    # get playcount vector for user i\n",
        "#    idx_nz = np.nonzero(pc_i)                         # indies of non-zero playcounts\n",
        "#    pc_uniq_artists[i] = len(idx_nz[1])\n",
        "#   pc_sum[i] = np.sum(pc_i[idx_nz])\n",
        "#   pc_mean[i] = np.mean(pc_i[idx_nz])\n",
        "#    pc_std[i] = np.std(pc_i[idx_nz])\n",
        "#    pc_median[i] = np.median(pc_i[idx_nz])\n",
        "    #print('User ' + str(i) +    \"   Playcount: \" + str(pc_sum[i]) + \\\n",
        "    #                            \"   Unique artists: \" + str(pc_uniq_artists[i]) + \\\n",
        "    #                            \"   Mean PC/artist: \" + str(pc_mean[i]) + \\\n",
        "    #                            \"   Std. PC/artist: \" + str(pc_std[i]) + \\\n",
        "    #                            \"   Median PC/artist: \" + str(pc_median[i]))\n",
        "\n",
        "# Mean/std. of basic statistics\n",
        "#print \"Mean/std. of playcount: \" + str(np.mean(pc_sum)) + \" +- \" + str(np.std(pc_sum))\n",
        "#print \"Mean/std. of unique artists: \" + str(np.mean(pc_uniq_artists)) + \" +- \" + str(np.std(pc_uniq_artists))\n",
        "#print \"Mean/std. of mean PC/artist: \" + str(np.mean(pc_mean)) + \" +- \" + str(np.std(pc_mean))\n",
        "#print \"Mean/std. of std. PC/artist: \" + str(np.mean(pc_std)) + \" +- \" + str(np.std(pc_std))\n",
        "#print \"Mean/std. of median PC/artist: \" + str(np.mean(pc_median)) + \" +- \" + str(np.std(pc_median))'''"
      ]
    },
    {
      "cell_type": "code",
      "execution_count": null,
      "metadata": {
        "id": "qTAFPGFVLvHo"
      },
      "outputs": [],
      "source": [
        "# Implementation of a very simple and much to improve user-based collaborative filtering (CF) recommender.\n",
        "# Author: Markus Schedl\n",
        "\n",
        "# Load required modules\n",
        "import csv\n",
        "import numpy as np\n",
        "import h5py\n",
        "from scipy import sparse\n",
        "\n",
        "\n",
        "UAM_MATLAB_FILE = 'LFM-1b_LEs.mat'         # Matlab .mat file where the listening events are stored\n",
        "ARTISTS_FILE = \"LFM-1b_artists.txt\"        # artist names for UAM\n",
        "USERS_FILE = \"LFM-1b_users.txt\"            # user names for UAM\n",
        "K = 3                                      # maximum number of seed's neighbors to select\n",
        "\n",
        "\n",
        "# Read the user-artist-matrix and corresponding artist and user indices from Matlab file\n",
        "def read_UAM(m_file):\n",
        "    mf = h5py.File(m_file, 'r')\n",
        "    user_ids = np.array(mf.get('idx_users')).astype(np.int64)\n",
        "    artist_ids = np.array(mf.get('idx_artists')).astype(np.int64)\n",
        "    # Load UAM\n",
        "    UAM = sparse.csr_matrix((mf['/LEs/'][\"data\"],\n",
        "                             mf['/LEs/'][\"ir\"],\n",
        "                             mf['/LEs/'][\"jc\"])).transpose()    #.tocoo().transpose()\n",
        "    # user and artist indices to access UAM\n",
        "    UAM_user_idx = UAM.indices #UAM.row -> for COO matrix\n",
        "    UAM_artist_idx = UAM.indptr #UAM.col -> for COO matrix\n",
        "    return UAM, UAM_user_idx, UAM_artist_idx, user_ids, artist_ids\n",
        "\n",
        "\n",
        "# Function to read metadata (users or artists)\n",
        "def read_from_file(filename, col):                  # col = column to read from file\n",
        "    data = []\n",
        "    with open(filename, 'r') as f:                  # open file for reading\n",
        "        reader = csv.reader(f, delimiter='\\t')      # create reader\n",
        "        headers = next(reader)                     # skip header\n",
        "        for row in reader:\n",
        "            item = row[col]\n",
        "            data.append(item)\n",
        "    f.close()\n",
        "    return data"
      ]
    },
    {
      "cell_type": "code",
      "execution_count": null,
      "metadata": {
        "colab": {
          "base_uri": "https://localhost:8080/",
          "height": 270
        },
        "id": "x-jFGXn5iE-x",
        "outputId": "45523379-9403-42f6-9222-b4dd75452cbc"
      },
      "outputs": [
        {
          "name": "stdout",
          "output_type": "stream",
          "text": [
            "Users:  120175\n",
            "Artists:  585095\n"
          ]
        },
        {
          "ename": "NameError",
          "evalue": "ignored",
          "output_type": "error",
          "traceback": [
            "\u001b[0;31m---------------------------------------------------------------------------\u001b[0m",
            "\u001b[0;31mNameError\u001b[0m                                 Traceback (most recent call last)",
            "\u001b[0;32m<ipython-input-3-8e51e66a1765>\u001b[0m in \u001b[0;36m<module>\u001b[0;34m\u001b[0m\n\u001b[1;32m     19\u001b[0m \u001b[0;34m\u001b[0m\u001b[0m\n\u001b[1;32m     20\u001b[0m \u001b[0;31m# get (normalized) playcount vector for current user u\u001b[0m\u001b[0;34m\u001b[0m\u001b[0;34m\u001b[0m\u001b[0;34m\u001b[0m\u001b[0m\n\u001b[0;32m---> 21\u001b[0;31m \u001b[0mpc_vec\u001b[0m \u001b[0;34m=\u001b[0m \u001b[0mUAM\u001b[0m\u001b[0;34m.\u001b[0m\u001b[0mgetrow\u001b[0m\u001b[0;34m(\u001b[0m\u001b[0mu\u001b[0m\u001b[0;34m)\u001b[0m\u001b[0;34m\u001b[0m\u001b[0;34m\u001b[0m\u001b[0m\n\u001b[0m\u001b[1;32m     22\u001b[0m \u001b[0;34m\u001b[0m\u001b[0m\n\u001b[1;32m     23\u001b[0m \u001b[0;31m# Compute similarities as dot product between playcount vector of user and all users via UAM (assuming that UAM is already normalized)\u001b[0m\u001b[0;34m\u001b[0m\u001b[0;34m\u001b[0m\u001b[0;34m\u001b[0m\u001b[0m\n",
            "\u001b[0;31mNameError\u001b[0m: name 'u' is not defined"
          ]
        }
      ],
      "source": [
        "# Initialize variables\n",
        "artists = []            # artists\n",
        "users = []              # users\n",
        "\n",
        "# Read UAM\n",
        "UAM, UAM_user_idx, UAM_artist_idx, user_ids, artist_ids = read_UAM(UAM_MATLAB_FILE)\n",
        "print('Users: ', len(user_ids))\n",
        "print('Artists: ', len(artist_ids))\n",
        "\n",
        "# Load metadata from provided files into lists\n",
        "artists = read_from_file(ARTISTS_FILE, 1)\n",
        "users = read_from_file(USERS_FILE, 0)\n",
        "\n",
        "# For all users\n",
        "#for u in range(0, UAM.shape[0]):\n",
        "#  print(\"Seed user-id: \" + str(users[u]))\n",
        "\n",
        "#u =1000\n",
        "\n",
        "# get (normalized) playcount vector for current user u\n",
        "pc_vec = UAM.getrow(u)\n",
        "\n",
        "# Compute similarities as dot product between playcount vector of user and all users via UAM (assuming that UAM is already normalized)\n",
        "#        print uU_sim_users\n",
        "uU_sim = pc_vec.dot(UAM.transpose()).tocoo()\n",
        "uU_user_idx = uU_sim.col\n",
        "uU_data = uU_sim.data\n",
        "\n",
        "#\n",
        "# Determine nearest neighbors to seed based on uUM\n",
        "#\n",
        "\n",
        "# Find the occurrence of the seed user in uU_data cols\n",
        "# and set to 0 so that it is not selected as its own NN\n",
        "occ_user_idx = (uU_user_idx == u)\n",
        "uU_data[occ_user_idx] = 0\n",
        "\n",
        "# Eliminate zeros\n",
        "uU_sim.data = uU_data\n",
        "uU_sim = uU_sim.tocsr()\n",
        "uU_sim.eliminate_zeros()\n",
        "uU_sim = uU_sim.tocoo()\n",
        "uU_user_idx = uU_sim.col\n",
        "uU_data = uU_sim.data\n",
        "\n",
        "# Sort users according to the similarity (uU_data)\n",
        "sort_index = np.argsort(uU_data)\n",
        "\n",
        "# Select the K nearest neighbors among all users\n",
        "# Note that uU_user_idx indeed provides the indices for users in UAM\n",
        "recommended_user_idx = uU_user_idx[sort_index[-K:]]\n",
        "# Get user_ids corresponding to nearest neighbors\n",
        "recommended_user_ids = user_ids[recommended_user_idx]\n",
        "# Get similarity score for nearest neighbors\n",
        "recommended_user_scores = uU_data[sort_index[-K:]]\n",
        "\n",
        "print(\"Nearest K=\" + str(K) + \" neighbors\\' user-ids: \", recommended_user_ids.flatten())\n",
        "# print('Scores/similarities:  ' + str(recommended_user_scores))\n",
        "# print('Index in UAM for recommended user-ids: ' + str(recommended_user_idx))\n",
        "\n",
        "\n",
        "# Determine set of recommended artists\n",
        "\n",
        "recommended_artists_idx = []\n",
        "for u_idx in recommended_user_idx:\n",
        "    recommended_artists_idx.extend(list(UAM.getrow(u_idx).indices))\n",
        "\n",
        "# Convert to set to remove duplicates and sort it\n",
        "recommended_artists_idx = sorted(set(recommended_artists_idx))\n",
        "# Remove artists already known to seed user\n",
        "recommended_artists_idx = np.setdiff1d(recommended_artists_idx, pc_vec.indices)\n",
        "\n",
        "print(\"Indices of \" + str(len(recommended_artists_idx)) + \" recommended artists: \", recommended_artists_idx)"
      ]
    }
  ],
  "metadata": {
    "colab": {
      "provenance": [],
      "collapsed_sections": [
        "_Fhcnu8NXot_",
        "tg2S01pzXPEc",
        "crpvCPDcXh84",
        "0wuSq2RCUSrr"
      ]
    },
    "kernelspec": {
      "display_name": "Python 3",
      "name": "python3"
    }
  },
  "nbformat": 4,
  "nbformat_minor": 0
}